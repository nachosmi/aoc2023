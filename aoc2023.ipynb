{
 "cells": [
  {
   "cell_type": "markdown",
   "metadata": {},
   "source": [
    "# AOC 2023\n",
    "\n",
    "Welcome to the Advent of Code 2023 !"
   ]
  },
  {
   "cell_type": "markdown",
   "metadata": {},
   "source": [
    "## Basic configuration\n",
    "\n"
   ]
  },
  {
   "cell_type": "code",
   "execution_count": null,
   "metadata": {},
   "outputs": [],
   "source": [
    "# help for aocd : https://pypi.org/project/advent-of-code-data/\n",
    "\n",
    "#!pip install aocd"
   ]
  },
  {
   "cell_type": "code",
   "execution_count": null,
   "metadata": {},
   "outputs": [],
   "source": [
    "import os\n",
    "\n",
    "# replace by your login session cookie\n",
    "os.environ[\n",
    "    \"AOC_SESSION\"\n",
    "] = \"\"  # your login session cookie"
   ]
  },
  {
   "cell_type": "code",
   "execution_count": null,
   "metadata": {},
   "outputs": [],
   "source": [
    "from aocd import submit\n",
    "from aocd.models import Puzzle"
   ]
  },
  {
   "cell_type": "code",
   "execution_count": null,
   "metadata": {},
   "outputs": [],
   "source": [
    "import numpy as np\n",
    "from tqdm import tqdm\n",
    "import json\n",
    "import typing as typ\n",
    "from collections import Counter, defaultdict, deque, ChainMap\n",
    "import math\n",
    "from itertools import product\n",
    "import re\n",
    "import regex\n",
    "import string\n",
    "import matplotlib.pyplot as plt"
   ]
  },
  {
   "cell_type": "markdown",
   "metadata": {},
   "source": [
    "!pip install "
   ]
  },
  {
   "cell_type": "markdown",
   "metadata": {},
   "source": [
    "## Day 4\n",
    "\n",
    "https://adventofcode.com/2023/day/4\n",
    "\n",
    "### Prepare input"
   ]
  },
  {
   "cell_type": "code",
   "execution_count": null,
   "metadata": {},
   "outputs": [],
   "source": [
    "puzzle = Puzzle(year=2023, day=4)\n",
    "content =[re.split(r\":|\\|\", line) for line in puzzle.input_data.split(\"\\n\")]\n",
    "content"
   ]
  },
  {
   "cell_type": "markdown",
   "metadata": {},
   "source": [
    "### Part 1"
   ]
  },
  {
   "cell_type": "code",
   "execution_count": null,
   "metadata": {},
   "outputs": [],
   "source": [
    "n_winnings = [(sum(x in list(map(int,ours.strip().split())) for x in list(map(int,winning.strip().split()))) ) for _,winning,ours in content]"
   ]
  },
  {
   "cell_type": "code",
   "execution_count": null,
   "metadata": {},
   "outputs": [],
   "source": [
    "points = sum(2**(n-1) for n in n_winnings if n!=0)"
   ]
  },
  {
   "cell_type": "code",
   "execution_count": null,
   "metadata": {},
   "outputs": [],
   "source": [
    "points"
   ]
  },
  {
   "cell_type": "code",
   "execution_count": null,
   "metadata": {},
   "outputs": [],
   "source": [
    "puzzle.answer_a = points"
   ]
  },
  {
   "cell_type": "markdown",
   "metadata": {},
   "source": [
    "### Part 2"
   ]
  },
  {
   "cell_type": "code",
   "execution_count": null,
   "metadata": {},
   "outputs": [],
   "source": [
    "copies = {id+1 : 1 for id in range(len(content))}"
   ]
  },
  {
   "cell_type": "code",
   "execution_count": null,
   "metadata": {},
   "outputs": [],
   "source": [
    "for cur_id, n_wins in enumerate(n_winnings): \n",
    "    for next_id in range(cur_id+1, cur_id+n_wins+1): \n",
    "        copies[next_id] += copies[cur_id]"
   ]
  },
  {
   "cell_type": "code",
   "execution_count": null,
   "metadata": {},
   "outputs": [],
   "source": [
    "answ = sum(copies.values())\n",
    "answ"
   ]
  },
  {
   "cell_type": "code",
   "execution_count": null,
   "metadata": {},
   "outputs": [],
   "source": [
    "puzzle.answer_b = answ"
   ]
  },
  {
   "cell_type": "markdown",
   "metadata": {},
   "source": [
    "## Day 3\n",
    "\n",
    "https://adventofcode.com/2023/day/3\n",
    "\n",
    "### Prepare input"
   ]
  },
  {
   "cell_type": "code",
   "execution_count": null,
   "metadata": {},
   "outputs": [],
   "source": [
    "puzzle = Puzzle(year=2023, day=3)\n",
    "content = puzzle.input_data.split(\"\\n\")\n",
    "content"
   ]
  },
  {
   "cell_type": "markdown",
   "metadata": {},
   "source": [
    "### Part 1"
   ]
  },
  {
   "cell_type": "code",
   "execution_count": null,
   "metadata": {},
   "outputs": [],
   "source": [
    "def check_neighbours(array:typ.List[str], row:int, col:int)->bool:\n",
    "\n",
    "    def get_neighbours()->typ.Tuple[str,str,str,str,str,str,str,str]:\n",
    "        top = array[row-1][col] if row != 0 else \".\"\n",
    "        bottom = array[row+1][col] if row != len(array)-1 else \".\" \n",
    "        left = array[row][col-1] if col != 0 else \".\"\n",
    "        right = array[row][col+1] if col != len(array[0])-1 else \".\"\n",
    "        \n",
    "        tl = array[row-1][col-1] if row != 0 and col != 0 else \".\"\n",
    "        tr = array[row-1][col+1] if row != 0 and col != len(array[0])-1 else \".\"\n",
    "        bl = array[row+1][col-1] if row != len(array)-1 and col != 0 else \".\"\n",
    "        br = array[row+1][col+1] if row != len(array)-1 and col != len(array[0])-1 else \".\"\n",
    "        \n",
    "        return top, bottom, left, right, tl, tr, bl, br\n",
    "    \n",
    "    return any(n in string.punctuation.replace(\".\",\"\") for n in get_all_neighbours())\n"
   ]
  },
  {
   "cell_type": "code",
   "execution_count": null,
   "metadata": {},
   "outputs": [],
   "source": [
    "parts = [(number, row) \n",
    "    for row, row_numbers in enumerate(re.finditer(r\"\\d+\", line) for line in content) \n",
    "    for number in row_numbers\n",
    "    if any(check_neighbours(content, row, col) for col in range(number.span()[0],number.span()[1]))\n",
    "]\n",
    "\n",
    "answ = sum(int(part[0].group()) for part in parts)"
   ]
  },
  {
   "cell_type": "code",
   "execution_count": null,
   "metadata": {},
   "outputs": [],
   "source": [
    "answ"
   ]
  },
  {
   "cell_type": "code",
   "execution_count": null,
   "metadata": {},
   "outputs": [],
   "source": [
    "puzzle.answer_a = answ"
   ]
  },
  {
   "cell_type": "markdown",
   "metadata": {},
   "source": [
    "### Part 2"
   ]
  },
  {
   "cell_type": "code",
   "execution_count": null,
   "metadata": {},
   "outputs": [],
   "source": [
    "def find_gears(array:typ.List[str], row:int, col:int)->typ.List[typ.Tuple[int,int]]: \n",
    "    \n",
    "    def get_neighbours_pos()->typ.List[typ.Tuple[int,int]]: \n",
    "        neighbours = []\n",
    "        if col != 0: \n",
    "            neighbours.append((row, col-1))\n",
    "        if col != len(array[0])-1: \n",
    "            neighbours.append((row, col+1))\n",
    "        if row != 0: \n",
    "            neighbours.append((row-1, col))\n",
    "            if col != 0: \n",
    "                neighbours.append((row-1, col-1))\n",
    "            if col != len(array[0])-1: \n",
    "                neighbours.append((row-1, col+1))\n",
    "        if row != len(array)-1: \n",
    "            neighbours.append((row+1,col))\n",
    "            if col != 0: \n",
    "                neighbours.append((row+1, col-1))\n",
    "            if col != len(array[0])-1: \n",
    "                neighbours.append((row+1, col+1))\n",
    "\n",
    "        return neighbours\n",
    "\n",
    "    return [n for n in get_neighbours_pos() if array[n[0]][n[1]] == \"*\"]\n",
    "                                  "
   ]
  },
  {
   "cell_type": "code",
   "execution_count": null,
   "metadata": {},
   "outputs": [],
   "source": [
    "gears = defaultdict(list)\n",
    "for part in parts: \n",
    "    number = part[0]\n",
    "    row = part[1]\n",
    "    gear_positions = set()\n",
    "    for col in range(number.span()[0],number.span()[1]): \n",
    "        gear_positions.update(find_gears(content, row, col))\n",
    "    for gear_pos in gear_positions: \n",
    "        gears[gear_pos].append(int(number.group()))"
   ]
  },
  {
   "cell_type": "code",
   "execution_count": null,
   "metadata": {},
   "outputs": [],
   "source": [
    "answ = sum(math.prod(gear_parts) for gear, gear_parts in gears.items() if len(gear_parts)==2) \n",
    "answ "
   ]
  },
  {
   "cell_type": "code",
   "execution_count": null,
   "metadata": {},
   "outputs": [],
   "source": [
    "puzzle.answer_b = answ"
   ]
  },
  {
   "cell_type": "markdown",
   "metadata": {},
   "source": [
    "## Day 2\n",
    "\n",
    "https://adventofcode.com/2023/day/2\n",
    "\n",
    "### Prepare input"
   ]
  },
  {
   "cell_type": "code",
   "execution_count": null,
   "metadata": {},
   "outputs": [],
   "source": [
    "puzzle = Puzzle(year=2023, day=2)"
   ]
  },
  {
   "cell_type": "code",
   "execution_count": null,
   "metadata": {},
   "outputs": [],
   "source": [
    "content = puzzle.input_data.split(\"\\n\")\n",
    "content"
   ]
  },
  {
   "cell_type": "code",
   "execution_count": null,
   "metadata": {},
   "outputs": [],
   "source": [
    "def get_max_colors(line:str)->typ.Dict[str,int]: \n",
    "    max_colors = {\"red\":0,\"blue\":0,\"green\":0}\n",
    "    for number, color in re.findall(r\"(\\d+) (\\w+)\", line.split(\": \")[1]): \n",
    "        max_colors[color] = max(max_colors[color], int(number))\n",
    "        max_colors[color] = max(max_colors[color], int(number))\n",
    "    return max_colors\n",
    "    \n",
    "all_max_colors = [get_max_colors(line) for line in content]"
   ]
  },
  {
   "cell_type": "markdown",
   "metadata": {},
   "source": [
    "### Part 1"
   ]
  },
  {
   "cell_type": "code",
   "execution_count": null,
   "metadata": {},
   "outputs": [],
   "source": [
    "target = {\"red\":12,\"green\":13,\"blue\":14}"
   ]
  },
  {
   "cell_type": "code",
   "execution_count": null,
   "metadata": {},
   "outputs": [],
   "source": [
    "answ = sum((id+1)*all(max_colors[key]<=target[key] for key in max_colors.keys()) for id, max_colors in enumerate(all_max_colors))\n",
    "answ"
   ]
  },
  {
   "cell_type": "code",
   "execution_count": null,
   "metadata": {},
   "outputs": [],
   "source": [
    "puzzle.answer_a = answ"
   ]
  },
  {
   "cell_type": "markdown",
   "metadata": {},
   "source": [
    "### Part 2"
   ]
  },
  {
   "cell_type": "code",
   "execution_count": null,
   "metadata": {},
   "outputs": [],
   "source": [
    "answ = sum(math.prod(max_colors.values()) for max_colors in all_max_colors)\n",
    "answ"
   ]
  },
  {
   "cell_type": "code",
   "execution_count": null,
   "metadata": {},
   "outputs": [],
   "source": [
    "puzzle.answer_b = answ"
   ]
  },
  {
   "cell_type": "markdown",
   "metadata": {},
   "source": [
    "## Day 1\n",
    "\n",
    "https://adventofcode.com/2023/day/1"
   ]
  },
  {
   "cell_type": "markdown",
   "metadata": {},
   "source": [
    "### Prepare input"
   ]
  },
  {
   "cell_type": "code",
   "execution_count": null,
   "metadata": {},
   "outputs": [],
   "source": [
    "puzzle = Puzzle(year=2023, day=1)"
   ]
  },
  {
   "cell_type": "code",
   "execution_count": null,
   "metadata": {},
   "outputs": [],
   "source": [
    "content = puzzle.input_data.split(\"\\n\")"
   ]
  },
  {
   "cell_type": "markdown",
   "metadata": {},
   "source": [
    "### Part 1"
   ]
  },
  {
   "cell_type": "code",
   "execution_count": null,
   "metadata": {},
   "outputs": [],
   "source": [
    "answ = sum(int(f\"{x[0]}{x[-1]}\") for x in [re.findall(r\"\\d\", line) for line in content])\n",
    "answ"
   ]
  },
  {
   "cell_type": "code",
   "execution_count": null,
   "metadata": {},
   "outputs": [],
   "source": [
    "puzzle.answer_a = answ"
   ]
  },
  {
   "cell_type": "markdown",
   "metadata": {},
   "source": [
    "### Part 2"
   ]
  },
  {
   "cell_type": "code",
   "execution_count": null,
   "metadata": {},
   "outputs": [],
   "source": [
    "txt_digits = \"one, two, three, four, five, six, seven, eight, nine\".split(\", \")"
   ]
  },
  {
   "cell_type": "code",
   "execution_count": null,
   "metadata": {},
   "outputs": [],
   "source": [
    "mapping = [{k:int(v),v:int(v)} for k,v in zip(txt_digits,string.digits[1:])]\n",
    "mapping = dict(ChainMap(*mapping))"
   ]
  },
  {
   "cell_type": "code",
   "execution_count": null,
   "metadata": {},
   "outputs": [],
   "source": [
    "numbers = [regex.findall(fr\"\\d|{'|'.join(txt_digits)}\", line, overlapped=True) for line in content]"
   ]
  },
  {
   "cell_type": "code",
   "execution_count": null,
   "metadata": {},
   "outputs": [],
   "source": [
    "answ = sum(mapping[x[0]]*10 + mapping[x[-1]] for x in numbers)\n",
    "answ"
   ]
  },
  {
   "cell_type": "code",
   "execution_count": null,
   "metadata": {},
   "outputs": [],
   "source": [
    "puzzle.answer_b = answ"
   ]
  }
 ],
 "metadata": {
  "kernelspec": {
   "display_name": "Python 3 (ipykernel)",
   "language": "python",
   "name": "python3"
  },
  "language_info": {
   "codemirror_mode": {
    "name": "ipython",
    "version": 3
   },
   "file_extension": ".py",
   "mimetype": "text/x-python",
   "name": "python",
   "nbconvert_exporter": "python",
   "pygments_lexer": "ipython3",
   "version": "3.11.5"
  }
 },
 "nbformat": 4,
 "nbformat_minor": 4
}
