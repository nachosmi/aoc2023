{
 "cells": [
  {
   "cell_type": "markdown",
   "metadata": {},
   "source": [
    "# AOC 2023\n",
    "\n",
    "Welcome to the Advent of Code 2023 !"
   ]
  },
  {
   "cell_type": "markdown",
   "metadata": {},
   "source": [
    "## Basic configuration\n",
    "\n"
   ]
  },
  {
   "cell_type": "code",
   "execution_count": 1,
   "metadata": {},
   "outputs": [],
   "source": [
    "# help for aocd : https://pypi.org/project/advent-of-code-data/\n",
    "\n",
    "#!pip install aocd"
   ]
  },
  {
   "cell_type": "code",
   "execution_count": 2,
   "metadata": {},
   "outputs": [],
   "source": [
    "import os\n",
    "\n",
    "# replace by your login session cookie\n",
    "os.environ[\n",
    "    \"AOC_SESSION\"\n",
    "] = \"\"  # your login session cookie"
   ]
  },
  {
   "cell_type": "code",
   "execution_count": 3,
   "metadata": {},
   "outputs": [],
   "source": [
    "from aocd import submit\n",
    "from aocd.models import Puzzle"
   ]
  },
  {
   "cell_type": "code",
   "execution_count": 4,
   "metadata": {},
   "outputs": [],
   "source": [
    "import numpy as np\n",
    "from tqdm import tqdm\n",
    "import json\n",
    "import typing as typ\n",
    "from collections import Counter, defaultdict, deque, ChainMap\n",
    "import math\n",
    "import itertools\n",
    "import re\n",
    "import regex\n",
    "import string\n",
    "import matplotlib.pyplot as plt"
   ]
  },
  {
   "cell_type": "markdown",
   "metadata": {},
   "source": [
    "## Day 8\n",
    "\n",
    "https://adventofcode.com/2023/day/8\n",
    "\n",
    "### Prepare input"
   ]
  },
  {
   "cell_type": "code",
   "execution_count": 5,
   "metadata": {
    "scrolled": true
   },
   "outputs": [],
   "source": [
    "puzzle = Puzzle(year=2023, day=8)\n",
    "instructions, content = puzzle.input_data.split(\"\\n\\n\")"
   ]
  },
  {
   "cell_type": "code",
   "execution_count": 19,
   "metadata": {},
   "outputs": [],
   "source": [
    "network = dict()\n",
    "for line in content.split(\"\\n\"): \n",
    "    start, left, right = re.findall(\"\\w+\", line)\n",
    "    network[start]={\"L\":left, \"R\":right}"
   ]
  },
  {
   "cell_type": "code",
   "execution_count": 20,
   "metadata": {},
   "outputs": [
    {
     "data": {
      "text/plain": [
       "('LRLLLRRLRRLRRLRRLLRRLRRLLRRRLLRRLRRLRRLRRLRLRLLLLLRRLRRLLRLRRRLLRRLRLLLLLLLRRLRLRRRLRRLRRRLRRLLLRRLLRRRLLRRRLRRLRLRRRLRRRLRLRLLRRRLRRRLRRLLRRRLRLRRLLRLLRRLLRRLRRRLRRLRLRRLLRRRLRRRLRRRLRLRLRLRRRLLRRRLRLRRLLRRLRRLRRLRLLRRLLRRRLRRRLRRLRRLRLLRRLRLRRLRRRLRRRLRRLRLRRRLRRRLRLLLRRLRLLRRRR',\n",
       " {'RLP': {'L': 'BMK', 'R': 'PCM'},\n",
       "  'JTJ': {'L': 'TVN', 'R': 'CJQ'},\n",
       "  'PFR': {'L': 'MMX', 'R': 'BQC'},\n",
       "  'JGM': {'L': 'NDJ', 'R': 'PCV'},\n",
       "  'LVD': {'L': 'TCK', 'R': 'PVR'},\n",
       "  'SVS': {'L': 'CDL', 'R': 'RNX'},\n",
       "  'QDF': {'L': 'XFG', 'R': 'NDX'},\n",
       "  'TBH': {'L': 'THM', 'R': 'DBC'},\n",
       "  'FQK': {'L': 'TFT', 'R': 'CNF'},\n",
       "  'THV': {'L': 'NQD', 'R': 'VNT'},\n",
       "  'VRL': {'L': 'HCQ', 'R': 'DPS'},\n",
       "  'LDM': {'L': 'CCH', 'R': 'PJB'},\n",
       "  'GXR': {'L': 'BRH', 'R': 'XLM'},\n",
       "  'CKF': {'L': 'THV', 'R': 'BNQ'},\n",
       "  'KMH': {'L': 'TLN', 'R': 'PKX'},\n",
       "  'SLP': {'L': 'XSV', 'R': 'VCR'},\n",
       "  'SXF': {'L': 'MJC', 'R': 'TJX'},\n",
       "  'KMJ': {'L': 'LBC', 'R': 'FKT'},\n",
       "  'VDX': {'L': 'MJQ', 'R': 'SGJ'},\n",
       "  'SHM': {'L': 'LJT', 'R': 'PBV'},\n",
       "  'PGX': {'L': 'KFM', 'R': 'SLD'},\n",
       "  'VHN': {'L': 'BBB', 'R': 'SJV'},\n",
       "  'BFL': {'L': 'VJG', 'R': 'JJF'},\n",
       "  'HKX': {'L': 'HNN', 'R': 'MQK'},\n",
       "  'SNB': {'L': 'PFJ', 'R': 'CTB'},\n",
       "  'GCD': {'L': 'BKX', 'R': 'DHR'},\n",
       "  'DQN': {'L': 'CTP', 'R': 'XDN'},\n",
       "  'DJP': {'L': 'GGK', 'R': 'NSF'},\n",
       "  'KPG': {'L': 'QCX', 'R': 'PQR'},\n",
       "  'PGR': {'L': 'QXN', 'R': 'PGT'},\n",
       "  'RVG': {'L': 'QDF', 'R': 'MVK'},\n",
       "  'BMV': {'L': 'FFH', 'R': 'FFH'},\n",
       "  'VCX': {'L': 'LDH', 'R': 'TQD'},\n",
       "  'KLC': {'L': 'DFP', 'R': 'FQD'},\n",
       "  'JMQ': {'L': 'JKT', 'R': 'BVH'},\n",
       "  'KLM': {'L': 'QJQ', 'R': 'NMB'},\n",
       "  'TTQ': {'L': 'GMV', 'R': 'QFC'},\n",
       "  'XFG': {'L': 'RCP', 'R': 'DTL'},\n",
       "  'DDC': {'L': 'FKG', 'R': 'JGM'},\n",
       "  'FCD': {'L': 'SPS', 'R': 'JSS'},\n",
       "  'LBC': {'L': 'VDX', 'R': 'NFH'},\n",
       "  'RXN': {'L': 'KTP', 'R': 'JMB'},\n",
       "  'MVH': {'L': 'NJC', 'R': 'LVJ'},\n",
       "  'PJB': {'L': 'RXN', 'R': 'JSB'},\n",
       "  'PBS': {'L': 'QGF', 'R': 'LSB'},\n",
       "  'RCP': {'L': 'PKL', 'R': 'HSJ'},\n",
       "  'TBF': {'L': 'RJP', 'R': 'JHJ'},\n",
       "  'SFB': {'L': 'FQH', 'R': 'TMH'},\n",
       "  'XLC': {'L': 'BXM', 'R': 'MSF'},\n",
       "  'TCS': {'L': 'TGT', 'R': 'GPT'},\n",
       "  'CPQ': {'L': 'JXT', 'R': 'FCH'},\n",
       "  'GDM': {'L': 'XBM', 'R': 'DDS'},\n",
       "  'QQQ': {'L': 'FLS', 'R': 'VCX'},\n",
       "  'MDT': {'L': 'TFS', 'R': 'TLV'},\n",
       "  'PFK': {'L': 'NPJ', 'R': 'SSR'},\n",
       "  'KSN': {'L': 'JXV', 'R': 'DRL'},\n",
       "  'VBS': {'L': 'NJC', 'R': 'LVJ'},\n",
       "  'TCP': {'L': 'TBK', 'R': 'XXS'},\n",
       "  'QTT': {'L': 'FLS', 'R': 'VCX'},\n",
       "  'FSH': {'L': 'FBM', 'R': 'XXN'},\n",
       "  'MND': {'L': 'KJH', 'R': 'MGC'},\n",
       "  'DTN': {'L': 'JNL', 'R': 'CGM'},\n",
       "  'QXV': {'L': 'NQJ', 'R': 'FSR'},\n",
       "  'TRQ': {'L': 'SNB', 'R': 'QRR'},\n",
       "  'RCG': {'L': 'NMR', 'R': 'BRG'},\n",
       "  'TGB': {'L': 'KFM', 'R': 'SLD'},\n",
       "  'QSK': {'L': 'NNT', 'R': 'TBH'},\n",
       "  'DDD': {'L': 'HPQ', 'R': 'XGH'},\n",
       "  'KHK': {'L': 'XMS', 'R': 'DXH'},\n",
       "  'VVC': {'L': 'CDB', 'R': 'LNP'},\n",
       "  'KNT': {'L': 'MTB', 'R': 'QXS'},\n",
       "  'FBH': {'L': 'HXT', 'R': 'FBG'},\n",
       "  'LJB': {'L': 'TBF', 'R': 'FXQ'},\n",
       "  'HHH': {'L': 'RPH', 'R': 'FSB'},\n",
       "  'KMR': {'L': 'PFT', 'R': 'VVC'},\n",
       "  'CFC': {'L': 'TVV', 'R': 'TVV'},\n",
       "  'LKC': {'L': 'LHN', 'R': 'QRL'},\n",
       "  'PFT': {'L': 'CDB', 'R': 'LNP'},\n",
       "  'JXV': {'L': 'NXS', 'R': 'KVX'},\n",
       "  'XDN': {'L': 'BRK', 'R': 'GGS'},\n",
       "  'NQJ': {'L': 'KMH', 'R': 'QSS'},\n",
       "  'FQD': {'L': 'PVS', 'R': 'JBV'},\n",
       "  'KJX': {'L': 'DJV', 'R': 'XPP'},\n",
       "  'VJP': {'L': 'HKX', 'R': 'VDR'},\n",
       "  'BSQ': {'L': 'MGS', 'R': 'CFK'},\n",
       "  'VJG': {'L': 'PSQ', 'R': 'KSD'},\n",
       "  'NNZ': {'L': 'GPT', 'R': 'TGT'},\n",
       "  'CSR': {'L': 'MFN', 'R': 'NQF'},\n",
       "  'KFM': {'L': 'GFN', 'R': 'GMH'},\n",
       "  'PHR': {'L': 'TJC', 'R': 'XTJ'},\n",
       "  'KCL': {'L': 'JJG', 'R': 'VJL'},\n",
       "  'VCR': {'L': 'BML', 'R': 'KCS'},\n",
       "  'PVM': {'L': 'BMH', 'R': 'QDN'},\n",
       "  'HPQ': {'L': 'LFD', 'R': 'FQM'},\n",
       "  'MLR': {'L': 'JKV', 'R': 'NTB'},\n",
       "  'XGV': {'L': 'RQL', 'R': 'JKX'},\n",
       "  'FHB': {'L': 'NPR', 'R': 'MNG'},\n",
       "  'DBC': {'L': 'LDK', 'R': 'TVP'},\n",
       "  'FSN': {'L': 'XQR', 'R': 'DBZ'},\n",
       "  'JJF': {'L': 'PSQ', 'R': 'KSD'},\n",
       "  'CLK': {'L': 'BMH', 'R': 'QDN'},\n",
       "  'QMH': {'L': 'BLQ', 'R': 'VKX'},\n",
       "  'SBH': {'L': 'SRN', 'R': 'SPX'},\n",
       "  'MJP': {'L': 'JXV', 'R': 'DRL'},\n",
       "  'CTB': {'L': 'XSF', 'R': 'XKC'},\n",
       "  'BJK': {'L': 'RKS', 'R': 'FQB'},\n",
       "  'CCX': {'L': 'CND', 'R': 'CND'},\n",
       "  'DTL': {'L': 'HSJ', 'R': 'PKL'},\n",
       "  'NNT': {'L': 'THM', 'R': 'DBC'},\n",
       "  'GBR': {'L': 'XGG', 'R': 'LNN'},\n",
       "  'AAA': {'L': 'XRF', 'R': 'DNR'},\n",
       "  'FLJ': {'L': 'GNM', 'R': 'MTK'},\n",
       "  'BXQ': {'L': 'LNX', 'R': 'GFM'},\n",
       "  'GMH': {'L': 'JXC', 'R': 'CSR'},\n",
       "  'DXL': {'L': 'SVN', 'R': 'FGV'},\n",
       "  'XBD': {'L': 'GHF', 'R': 'HJQ'},\n",
       "  'PTQ': {'L': 'SGQ', 'R': 'GVD'},\n",
       "  'SCJ': {'L': 'SJV', 'R': 'BBB'},\n",
       "  'LHN': {'L': 'LHH', 'R': 'FLK'},\n",
       "  'HBL': {'L': 'JVT', 'R': 'MHM'},\n",
       "  'QLM': {'L': 'TVJ', 'R': 'SVB'},\n",
       "  'BRH': {'L': 'HNK', 'R': 'CTR'},\n",
       "  'MQJ': {'L': 'GQR', 'R': 'DDC'},\n",
       "  'MTM': {'L': 'KLV', 'R': 'FGJ'},\n",
       "  'MJQ': {'L': 'LPR', 'R': 'JFH'},\n",
       "  'GQJ': {'L': 'GKT', 'R': 'JKP'},\n",
       "  'FDC': {'L': 'KPG', 'R': 'LDQ'},\n",
       "  'DRN': {'L': 'SBH', 'R': 'NNV'},\n",
       "  'JRT': {'L': 'DJP', 'R': 'JFJ'},\n",
       "  'LCP': {'L': 'HPL', 'R': 'KLJ'},\n",
       "  'SDL': {'L': 'MST', 'R': 'PDL'},\n",
       "  'NGM': {'L': 'DRH', 'R': 'RTK'},\n",
       "  'TVV': {'L': 'JSL', 'R': 'JSL'},\n",
       "  'QRR': {'L': 'CTB', 'R': 'PFJ'},\n",
       "  'GGS': {'L': 'FHF', 'R': 'XSJ'},\n",
       "  'MKD': {'L': 'NGR', 'R': 'CDR'},\n",
       "  'GBM': {'L': 'MNR', 'R': 'SVS'},\n",
       "  'SHK': {'L': 'NMK', 'R': 'KNH'},\n",
       "  'BKB': {'L': 'GHB', 'R': 'RVC'},\n",
       "  'GHH': {'L': 'CFC', 'R': 'HQT'},\n",
       "  'CRN': {'L': 'LBC', 'R': 'FKT'},\n",
       "  'BCF': {'L': 'CBQ', 'R': 'NGM'},\n",
       "  'MQK': {'L': 'DXL', 'R': 'JQV'},\n",
       "  'XQK': {'L': 'TTG', 'R': 'XTV'},\n",
       "  'PMZ': {'L': 'FBH', 'R': 'VMT'},\n",
       "  'LGV': {'L': 'QMH', 'R': 'QPM'},\n",
       "  'TMH': {'L': 'MTM', 'R': 'MVR'},\n",
       "  'TRM': {'L': 'DJJ', 'R': 'FJS'},\n",
       "  'XFS': {'L': 'XDH', 'R': 'VFP'},\n",
       "  'QPM': {'L': 'VKX', 'R': 'BLQ'},\n",
       "  'CJN': {'L': 'RXP', 'R': 'KLC'},\n",
       "  'RBC': {'L': 'CND', 'R': 'DKZ'},\n",
       "  'RSP': {'L': 'TTQ', 'R': 'PQQ'},\n",
       "  'LVJ': {'L': 'XXK', 'R': 'XGT'},\n",
       "  'TTN': {'L': 'BVH', 'R': 'JKT'},\n",
       "  'MBS': {'L': 'KLM', 'R': 'XHN'},\n",
       "  'PJK': {'L': 'CCS', 'R': 'TRS'},\n",
       "  'LDX': {'L': 'XGM', 'R': 'PBP'},\n",
       "  'XGB': {'L': 'NBS', 'R': 'LGV'},\n",
       "  'QXF': {'L': 'MLR', 'R': 'MKB'},\n",
       "  'FFD': {'L': 'MQF', 'R': 'MQF'},\n",
       "  'NPR': {'L': 'BMQ', 'R': 'TPX'},\n",
       "  'JPN': {'L': 'TBK', 'R': 'XXS'},\n",
       "  'FQJ': {'L': 'MXL', 'R': 'BXP'},\n",
       "  'QXP': {'L': 'JNL', 'R': 'CGM'},\n",
       "  'XBQ': {'L': 'DDS', 'R': 'XBM'},\n",
       "  'NNG': {'L': 'VJL', 'R': 'JJG'},\n",
       "  'BLQ': {'L': 'CBN', 'R': 'FDT'},\n",
       "  'FQB': {'L': 'XNP', 'R': 'SNR'},\n",
       "  'DHR': {'L': 'DCM', 'R': 'SHK'},\n",
       "  'JVT': {'L': 'KKR', 'R': 'BXQ'},\n",
       "  'PCV': {'L': 'FFD', 'R': 'PDG'},\n",
       "  'PFJ': {'L': 'XKC', 'R': 'XSF'},\n",
       "  'RTB': {'L': 'RHT', 'R': 'SPG'},\n",
       "  'BXF': {'L': 'PGR', 'R': 'CFJ'},\n",
       "  'DGS': {'L': 'MKB', 'R': 'MLR'},\n",
       "  'MTK': {'L': 'NJL', 'R': 'PQJ'},\n",
       "  'NMS': {'L': 'XQJ', 'R': 'TLL'},\n",
       "  'XFF': {'L': 'KHK', 'R': 'DRB'},\n",
       "  'MDR': {'L': 'HCQ', 'R': 'DPS'},\n",
       "  'GMD': {'L': 'XTT', 'R': 'XKV'},\n",
       "  'FKT': {'L': 'VDX', 'R': 'NFH'},\n",
       "  'VNS': {'L': 'PFR', 'R': 'GMK'},\n",
       "  'JTB': {'L': 'BSC', 'R': 'XFF'},\n",
       "  'XPM': {'L': 'BSQ', 'R': 'MFD'},\n",
       "  'QDT': {'L': 'GQJ', 'R': 'GPK'},\n",
       "  'LLV': {'L': 'VCR', 'R': 'XSV'},\n",
       "  'BQC': {'L': 'MVH', 'R': 'VBS'},\n",
       "  'JLL': {'L': 'CRV', 'R': 'HBL'},\n",
       "  'SNH': {'L': 'LJT', 'R': 'PBV'},\n",
       "  'XGG': {'L': 'LVD', 'R': 'RCD'},\n",
       "  'LPR': {'L': 'JBJ', 'R': 'JBH'},\n",
       "  'QVC': {'L': 'BXM', 'R': 'MSF'},\n",
       "  'NMB': {'L': 'HQD', 'R': 'FVF'},\n",
       "  'XST': {'L': 'GBM', 'R': 'MKH'},\n",
       "  'VTL': {'L': 'JXT', 'R': 'FCH'},\n",
       "  'LDQ': {'L': 'QCX', 'R': 'PQR'},\n",
       "  'QKK': {'L': 'GFP', 'R': 'CVB'},\n",
       "  'KLV': {'L': 'JCR', 'R': 'CJV'},\n",
       "  'GLC': {'L': 'MNG', 'R': 'NPR'},\n",
       "  'GHJ': {'L': 'JTB', 'R': 'KVQ'},\n",
       "  'XRF': {'L': 'FTK', 'R': 'JXN'},\n",
       "  'JGB': {'L': 'HQS', 'R': 'JSG'},\n",
       "  'VNT': {'L': 'NCK', 'R': 'TXF'},\n",
       "  'PGT': {'L': 'VVV', 'R': 'JDP'},\n",
       "  'GFB': {'L': 'PSM', 'R': 'VLK'},\n",
       "  'TVP': {'L': 'RDX', 'R': 'PPL'},\n",
       "  'VKX': {'L': 'CBN', 'R': 'FDT'},\n",
       "  'NMR': {'L': 'HLQ', 'R': 'NCV'},\n",
       "  'MGQ': {'L': 'TPM', 'R': 'MND'},\n",
       "  'TFT': {'L': 'DKH', 'R': 'TSX'},\n",
       "  'CBV': {'L': 'CCX', 'R': 'CCX'},\n",
       "  'TJS': {'L': 'RJK', 'R': 'RMC'},\n",
       "  'TRX': {'L': 'XBB', 'R': 'MDP'},\n",
       "  'MTB': {'L': 'QMV', 'R': 'RMR'},\n",
       "  'XSL': {'L': 'CFC', 'R': 'HQT'},\n",
       "  'FRK': {'L': 'SVF', 'R': 'LDX'},\n",
       "  'QGM': {'L': 'LDM', 'R': 'GMS'},\n",
       "  'XGS': {'L': 'NGR', 'R': 'CDR'},\n",
       "  'CTP': {'L': 'GGS', 'R': 'BRK'},\n",
       "  'JXT': {'L': 'JCN', 'R': 'KGR'},\n",
       "  'GFM': {'L': 'FJQ', 'R': 'TMX'},\n",
       "  'NST': {'L': 'MBS', 'R': 'MTX'},\n",
       "  'NDV': {'L': 'JJT', 'R': 'KMR'},\n",
       "  'RDD': {'L': 'MJP', 'R': 'KSN'},\n",
       "  'RDX': {'L': 'JTJ', 'R': 'SKB'},\n",
       "  'HDF': {'L': 'TVK', 'R': 'LCP'},\n",
       "  'DJV': {'L': 'TRF', 'R': 'TFJ'},\n",
       "  'SGJ': {'L': 'JFH', 'R': 'LPR'},\n",
       "  'BTX': {'L': 'PHB', 'R': 'PBS'},\n",
       "  'KMK': {'L': 'MQB', 'R': 'VLQ'},\n",
       "  'HXM': {'L': 'VLK', 'R': 'PSM'},\n",
       "  'DPS': {'L': 'QPG', 'R': 'HDC'},\n",
       "  'RJP': {'L': 'PGL', 'R': 'SXF'},\n",
       "  'DKZ': {'L': 'KCL', 'R': 'NNG'},\n",
       "  'GHR': {'L': 'DFN', 'R': 'XTH'},\n",
       "  'XQJ': {'L': 'JGB', 'R': 'BLH'},\n",
       "  'BRG': {'L': 'NCV', 'R': 'HLQ'},\n",
       "  'HJQ': {'L': 'QQQ', 'R': 'QTT'},\n",
       "  'JBJ': {'L': 'JRT', 'R': 'HDD'},\n",
       "  'XSV': {'L': 'KCS', 'R': 'BML'},\n",
       "  'CDL': {'L': 'QDT', 'R': 'NGV'},\n",
       "  'LQS': {'L': 'PCL', 'R': 'CKF'},\n",
       "  'TGH': {'L': 'SSR', 'R': 'NPJ'},\n",
       "  'DBK': {'L': 'MVC', 'R': 'GFJ'},\n",
       "  'VRX': {'L': 'FXB', 'R': 'PHR'},\n",
       "  'RBH': {'L': 'FFH', 'R': 'DXV'},\n",
       "  'DRQ': {'L': 'GDJ', 'R': 'QBV'},\n",
       "  'GNM': {'L': 'NJL', 'R': 'PQJ'},\n",
       "  'NCF': {'L': 'QRL', 'R': 'LHN'},\n",
       "  'JQP': {'L': 'KMR', 'R': 'JJT'},\n",
       "  'SBN': {'L': 'TXS', 'R': 'QXB'},\n",
       "  'CFJ': {'L': 'PGT', 'R': 'QXN'},\n",
       "  'KVQ': {'L': 'XFF', 'R': 'BSC'},\n",
       "  'NDX': {'L': 'RCP', 'R': 'DTL'},\n",
       "  'SRF': {'L': 'KJX', 'R': 'QJG'},\n",
       "  'BFD': {'L': 'LCP', 'R': 'TVK'},\n",
       "  'PBN': {'L': 'XKL', 'R': 'TJS'},\n",
       "  'GRB': {'L': 'QBV', 'R': 'GDJ'},\n",
       "  'TGT': {'L': 'RGF', 'R': 'LQT'},\n",
       "  'TFJ': {'L': 'LPT', 'R': 'KMK'},\n",
       "  'SRT': {'L': 'FQQ', 'R': 'GBR'},\n",
       "  'THM': {'L': 'LDK', 'R': 'TVP'},\n",
       "  'KVB': {'L': 'RXP', 'R': 'KLC'},\n",
       "  'TVJ': {'L': 'QVS', 'R': 'SQP'},\n",
       "  'XHN': {'L': 'NMB', 'R': 'QJQ'},\n",
       "  'QGF': {'L': 'JVB', 'R': 'GCD'},\n",
       "  'RKS': {'L': 'XNP', 'R': 'SNR'},\n",
       "  'MFN': {'L': 'NKF', 'R': 'RCG'},\n",
       "  'BVH': {'L': 'QKK', 'R': 'TJL'},\n",
       "  'CNF': {'L': 'DKH', 'R': 'TSX'},\n",
       "  'MSF': {'L': 'QXP', 'R': 'DTN'},\n",
       "  'KCS': {'L': 'LMM', 'R': 'GMD'},\n",
       "  'XGH': {'L': 'LFD', 'R': 'FQM'},\n",
       "  'KJH': {'L': 'KLD', 'R': 'FNH'},\n",
       "  'PKM': {'L': 'BRH', 'R': 'XLM'},\n",
       "  'VVT': {'L': 'CFJ', 'R': 'PGR'},\n",
       "  'XTC': {'L': 'PHB', 'R': 'PBS'},\n",
       "  'LQT': {'L': 'BTJ', 'R': 'DPM'},\n",
       "  'JKX': {'L': 'TBP', 'R': 'QGM'},\n",
       "  'ZZZ': {'L': 'DNR', 'R': 'XRF'},\n",
       "  'QXS': {'L': 'RMR', 'R': 'QMV'},\n",
       "  'PBP': {'L': 'KVB', 'R': 'CJN'},\n",
       "  'TTG': {'L': 'FDM', 'R': 'FDM'},\n",
       "  'BML': {'L': 'LMM', 'R': 'GMD'},\n",
       "  'RNX': {'L': 'NGV', 'R': 'QDT'},\n",
       "  'TPX': {'L': 'NDB', 'R': 'GHR'},\n",
       "  'MFS': {'L': 'SDL', 'R': 'LRQ'},\n",
       "  'LGG': {'L': 'LXG', 'R': 'JLL'},\n",
       "  'MJC': {'L': 'GVX', 'R': 'JJK'},\n",
       "  'RRF': {'L': 'GSK', 'R': 'NMS'},\n",
       "  'FBM': {'L': 'HBB', 'R': 'FQJ'},\n",
       "  'PQQ': {'L': 'QFC', 'R': 'GMV'},\n",
       "  'FCH': {'L': 'KGR', 'R': 'JCN'},\n",
       "  'PDG': {'L': 'MQF', 'R': 'FSN'},\n",
       "  'HLQ': {'L': 'NGF', 'R': 'FKK'},\n",
       "  'QQB': {'L': 'MTB', 'R': 'QXS'},\n",
       "  'HNN': {'L': 'JQV', 'R': 'DXL'},\n",
       "  'TLN': {'L': 'CNJ', 'R': 'PSX'},\n",
       "  'NGV': {'L': 'GPK', 'R': 'GQJ'},\n",
       "  'LDK': {'L': 'RDX', 'R': 'PPL'},\n",
       "  'NJC': {'L': 'XXK', 'R': 'XGT'},\n",
       "  'XQA': {'L': 'TGT', 'R': 'GPT'},\n",
       "  'JCH': {'L': 'XBB', 'R': 'MDP'},\n",
       "  'KMB': {'L': 'QJG', 'R': 'KJX'},\n",
       "  'TCK': {'L': 'VVH', 'R': 'SML'},\n",
       "  'FKS': {'L': 'PVM', 'R': 'CLK'},\n",
       "  'GMS': {'L': 'CCH', 'R': 'PJB'},\n",
       "  'LHH': {'L': 'GRB', 'R': 'DRQ'},\n",
       "  'JML': {'L': 'RQL', 'R': 'JKX'},\n",
       "  'DTP': {'L': 'TGH', 'R': 'PFK'},\n",
       "  'BKX': {'L': 'SHK', 'R': 'DCM'},\n",
       "  'HPL': {'L': 'QLM', 'R': 'DPV'},\n",
       "  'JJG': {'L': 'VKR', 'R': 'DQN'},\n",
       "  'PDL': {'L': 'QNS', 'R': 'BJC'},\n",
       "  'SLD': {'L': 'GFN', 'R': 'GMH'},\n",
       "  'JQV': {'L': 'SVN', 'R': 'FGV'},\n",
       "  'FKK': {'L': 'LLV', 'R': 'SLP'},\n",
       "  'CTC': {'L': 'HKX', 'R': 'VDR'},\n",
       "  'TSX': {'L': 'FRM', 'R': 'FRK'},\n",
       "  'FNH': {'L': 'BTX', 'R': 'XTC'},\n",
       "  'JMB': {'L': 'BCF', 'R': 'SKS'},\n",
       "  'KGR': {'L': 'QLB', 'R': 'HTP'},\n",
       "  'TXS': {'L': 'VRL', 'R': 'MDR'},\n",
       "  'KNH': {'L': 'DGS', 'R': 'QXF'},\n",
       "  'DDS': {'L': 'VHN', 'R': 'SCJ'},\n",
       "  'MML': {'L': 'TPM', 'R': 'MND'},\n",
       "  'XKB': {'L': 'SHM', 'R': 'SNH'},\n",
       "  'RMC': {'L': 'FRX', 'R': 'JRJ'},\n",
       "  'XVP': {'L': 'JSL', 'R': 'LSH'},\n",
       "  'HXT': {'L': 'GLC', 'R': 'FHB'},\n",
       "  'FQM': {'L': 'MDT', 'R': 'DBH'},\n",
       "  'PSX': {'L': 'LRL', 'R': 'GHJ'},\n",
       "  'VSC': {'L': 'FXQ', 'R': 'TBF'},\n",
       "  'JFH': {'L': 'JBJ', 'R': 'JBH'},\n",
       "  'SML': {'L': 'GSN', 'R': 'TVS'},\n",
       "  'BMK': {'L': 'XNT', 'R': 'KCD'},\n",
       "  'VFP': {'L': 'BXF', 'R': 'VVT'},\n",
       "  'GHB': {'L': 'LHM', 'R': 'HDQ'},\n",
       "  'FDM': {'L': 'SGQ', 'R': 'SGQ'},\n",
       "  'FQH': {'L': 'MTM', 'R': 'MVR'},\n",
       "  'JJC': {'L': 'GXR', 'R': 'PKM'},\n",
       "  'HFM': {'L': 'PKM', 'R': 'GXR'},\n",
       "  'LNX': {'L': 'FJQ', 'R': 'FJQ'},\n",
       "  'XTT': {'L': 'VRX', 'R': 'PML'},\n",
       "  'TQD': {'L': 'NSN', 'R': 'DDD'},\n",
       "  'FGV': {'L': 'XFS', 'R': 'FLT'},\n",
       "  'FHF': {'L': 'QXV', 'R': 'NVN'},\n",
       "  'HDQ': {'L': 'TTB', 'R': 'RLP'},\n",
       "  'CQN': {'L': 'STG', 'R': 'LQS'},\n",
       "  'VNJ': {'L': 'SNH', 'R': 'SHM'},\n",
       "  'DPB': {'L': 'JTP', 'R': 'PJK'},\n",
       "  'JCQ': {'L': 'CNF', 'R': 'TFT'},\n",
       "  'LPF': {'L': 'XMB', 'R': 'FBB'},\n",
       "  'SQP': {'L': 'JML', 'R': 'XGV'},\n",
       "  'QSS': {'L': 'TLN', 'R': 'PKX'},\n",
       "  'CDB': {'L': 'SDB', 'R': 'QJS'},\n",
       "  'GTF': {'L': 'TRQ', 'R': 'QNQ'},\n",
       "  'KSD': {'L': 'BMV', 'R': 'RBH'},\n",
       "  'JFD': {'L': 'CCX', 'R': 'RBC'},\n",
       "  'GSN': {'L': 'DRN', 'R': 'KKD'},\n",
       "  'RXP': {'L': 'DFP', 'R': 'FQD'},\n",
       "  'RTK': {'L': 'RDD', 'R': 'DTF'},\n",
       "  'GPT': {'L': 'LQT', 'R': 'RGF'},\n",
       "  'TLV': {'L': 'LGT', 'R': 'VGM'},\n",
       "  'FSB': {'L': 'HGC', 'R': 'TXM'},\n",
       "  'KKD': {'L': 'SBH', 'R': 'NNV'},\n",
       "  'XNT': {'L': 'LJB', 'R': 'VSC'},\n",
       "  'LXG': {'L': 'HBL', 'R': 'CRV'},\n",
       "  'TTB': {'L': 'PCM', 'R': 'BMK'},\n",
       "  'QPG': {'L': 'KKX', 'R': 'SFB'},\n",
       "  'RQL': {'L': 'QGM', 'R': 'TBP'},\n",
       "  'JNL': {'L': 'JJC', 'R': 'HFM'},\n",
       "  'TPM': {'L': 'KJH', 'R': 'MGC'},\n",
       "  'KKR': {'L': 'LNX', 'R': 'GFM'},\n",
       "  'SVF': {'L': 'PBP', 'R': 'XGM'},\n",
       "  'LHM': {'L': 'RLP', 'R': 'TTB'},\n",
       "  'JDP': {'L': 'XQL', 'R': 'NST'},\n",
       "  'PCM': {'L': 'KCD', 'R': 'XNT'},\n",
       "  'TQF': {'L': 'LDQ', 'R': 'KPG'},\n",
       "  'NGR': {'L': 'DTP', 'R': 'NFD'},\n",
       "  'PPS': {'L': 'NQN', 'R': 'RHG'},\n",
       "  'DRL': {'L': 'KVX', 'R': 'NXS'},\n",
       "  'MVF': {'L': 'CPP', 'R': 'FCD'},\n",
       "  'SSR': {'L': 'BJK', 'R': 'VCP'},\n",
       "  'DRH': {'L': 'RDD', 'R': 'DTF'},\n",
       "  'NSJ': {'L': 'FKS', 'R': 'XVL'},\n",
       "  'CPS': {'L': 'QDF', 'R': 'MVK'},\n",
       "  'PML': {'L': 'PHR', 'R': 'FXB'},\n",
       "  'DPM': {'L': 'MML', 'R': 'MGQ'},\n",
       "  'MJS': {'L': 'QKF', 'R': 'PMZ'},\n",
       "  'JSS': {'L': 'XPM', 'R': 'FLV'},\n",
       "  'CRV': {'L': 'JVT', 'R': 'MHM'},\n",
       "  'QJS': {'L': 'PKV', 'R': 'RTB'},\n",
       "  'JHJ': {'L': 'PGL', 'R': 'SXF'},\n",
       "  'JSB': {'L': 'KTP', 'R': 'JMB'},\n",
       "  'KBN': {'L': 'JHB', 'R': 'NJZ'},\n",
       "  'BMJ': {'L': 'CCK', 'R': 'GTF'},\n",
       "  'NDJ': {'L': 'FFD', 'R': 'FFD'},\n",
       "  'LFD': {'L': 'MDT', 'R': 'DBH'},\n",
       "  'NQD': {'L': 'NCK', 'R': 'TXF'},\n",
       "  'NSN': {'L': 'HPQ', 'R': 'XGH'},\n",
       "  'XKV': {'L': 'PML', 'R': 'VRX'},\n",
       "  'SHS': {'L': 'NBS', 'R': 'LGV'},\n",
       "  'SRN': {'L': 'KRJ', 'R': 'DPJ'},\n",
       "  'QCX': {'L': 'HHH', 'R': 'LLJ'},\n",
       "  'MNG': {'L': 'TPX', 'R': 'BMQ'},\n",
       "  'TJX': {'L': 'GVX', 'R': 'JJK'},\n",
       "  'FVF': {'L': 'PPS', 'R': 'LFK'},\n",
       "  'LDH': {'L': 'DDD', 'R': 'NSN'},\n",
       "  'MVC': {'L': 'FHQ', 'R': 'MQJ'},\n",
       "  'TJL': {'L': 'GFP', 'R': 'CVB'},\n",
       "  'JXC': {'L': 'MFN', 'R': 'NQF'},\n",
       "  'LJT': {'L': 'LKC', 'R': 'NCF'},\n",
       "  'PVS': {'L': 'XGB', 'R': 'SHS'},\n",
       "  'VVV': {'L': 'NST', 'R': 'XQL'},\n",
       "  'CBQ': {'L': 'DRH', 'R': 'RTK'},\n",
       "  'SKS': {'L': 'NGM', 'R': 'CBQ'},\n",
       "  'LLJ': {'L': 'FSB', 'R': 'RPH'},\n",
       "  'CND': {'L': 'NNG', 'R': 'KCL'},\n",
       "  'JSG': {'L': 'SFL', 'R': 'LCQ'},\n",
       "  'NJZ': {'L': 'VMD', 'R': 'PBN'},\n",
       "  'PKL': {'L': 'XGS', 'R': 'MKD'},\n",
       "  'BLH': {'L': 'JSG', 'R': 'HQS'},\n",
       "  'JHB': {'L': 'PBN', 'R': 'VMD'},\n",
       "  'GQR': {'L': 'FKG', 'R': 'JGM'},\n",
       "  'CNJ': {'L': 'GHJ', 'R': 'LRL'},\n",
       "  'MVR': {'L': 'KLV', 'R': 'FGJ'},\n",
       "  'SPG': {'L': 'XQC', 'R': 'FJX'},\n",
       "  'FTK': {'L': 'SBN', 'R': 'PDJ'},\n",
       "  'FJB': {'L': 'FQQ', 'R': 'GBR'},\n",
       "  'LRL': {'L': 'KVQ', 'R': 'JTB'},\n",
       "  'PQJ': {'L': 'XST', 'R': 'TMM'},\n",
       "  'NXS': {'L': 'JHF', 'R': 'SKG'},\n",
       "  'TFS': {'L': 'LGT', 'R': 'VGM'},\n",
       "  'SNR': {'L': 'RSP', 'R': 'XTB'},\n",
       "  'DPJ': {'L': 'VXJ', 'R': 'DBK'},\n",
       "  'NJL': {'L': 'XST', 'R': 'TMM'},\n",
       "  'VCP': {'L': 'FQB', 'R': 'RKS'},\n",
       "  'NGF': {'L': 'LLV', 'R': 'SLP'},\n",
       "  'KLD': {'L': 'XTC', 'R': 'BTX'},\n",
       "  'QJF': {'L': 'QQB', 'R': 'KNT'},\n",
       "  'FHQ': {'L': 'GQR', 'R': 'DDC'},\n",
       "  'MQB': {'L': 'VNJ', 'R': 'XKB'},\n",
       "  'FHG': {'L': 'LLC', 'R': 'QSK'},\n",
       "  'VXJ': {'L': 'GFJ', 'R': 'MVC'},\n",
       "  'LJV': {'L': 'TRM', 'R': 'FXH'},\n",
       "  'TXM': {'L': 'GFB', 'R': 'HXM'},\n",
       "  'BMQ': {'L': 'NDB', 'R': 'GHR'},\n",
       "  'MXL': {'L': 'RSB', 'R': 'FHL'},\n",
       "  'TBK': {'L': 'HHK', 'R': 'DQQ'},\n",
       "  'GKT': {'L': 'LGG', 'R': 'FHR'},\n",
       "  'DTF': {'L': 'KSN', 'R': 'MJP'},\n",
       "  'VDJ': {'L': 'MTK', 'R': 'GNM'},\n",
       "  'PCL': {'L': 'BNQ', 'R': 'THV'},\n",
       "  'VLK': {'L': 'XCH', 'R': 'LJV'},\n",
       "  'BSC': {'L': 'KHK', 'R': 'DRB'},\n",
       "  'XTH': {'L': 'VTL', 'R': 'CPQ'},\n",
       "  'XXS': {'L': 'HHK', 'R': 'DQQ'},\n",
       "  'GMV': {'L': 'MFS', 'R': 'XLJ'},\n",
       "  'BMH': {'L': 'SLL', 'R': 'CTM'},\n",
       "  'RGF': {'L': 'BTJ', 'R': 'DPM'},\n",
       "  'FJS': {'L': 'DPB', 'R': 'PLN'},\n",
       "  'QDN': {'L': 'SLL', 'R': 'CTM'},\n",
       "  'CVB': {'L': 'CBV', 'R': 'JFD'},\n",
       "  'TMX': {'L': 'XCR', 'R': 'KBN'},\n",
       "  'XKC': {'L': 'JQP', 'R': 'NDV'},\n",
       "  'VGM': {'L': 'QVC', 'R': 'XLC'},\n",
       "  'FGT': {'L': 'SJH', 'R': 'MVF'},\n",
       "  'DXV': {'L': 'DQL', 'R': 'MJS'},\n",
       "  'MGC': {'L': 'FNH', 'R': 'KLD'},\n",
       "  'CCS': {'L': 'JFG', 'R': 'NGD'},\n",
       "  'STG': {'L': 'PCL', 'R': 'CKF'},\n",
       "  'NKF': {'L': 'BRG', 'R': 'NMR'},\n",
       "  'HQT': {'L': 'TVV', 'R': 'XVP'},\n",
       "  'QJQ': {'L': 'HQD', 'R': 'FVF'},\n",
       "  'HQS': {'L': 'SFL', 'R': 'LCQ'},\n",
       "  'MGS': {'L': 'XBD', 'R': 'QHS'},\n",
       "  'QXB': {'L': 'MDR', 'R': 'VRL'},\n",
       "  'GFP': {'L': 'CBV', 'R': 'CBV'},\n",
       "  'JVX': {'L': 'XRF', 'R': 'DNR'},\n",
       "  'MST': {'L': 'BJC', 'R': 'QNS'},\n",
       "  'PBV': {'L': 'NCF', 'R': 'LKC'},\n",
       "  'RJS': {'L': 'MVF', 'R': 'SJH'},\n",
       "  'NBS': {'L': 'QMH', 'R': 'QPM'},\n",
       "  'QHS': {'L': 'GHF', 'R': 'HJQ'},\n",
       "  'XQL': {'L': 'MBS', 'R': 'MTX'},\n",
       "  'DQQ': {'L': 'LTJ', 'R': 'BKB'},\n",
       "  'SJV': {'L': 'HDF', 'R': 'BFD'},\n",
       "  'VLQ': {'L': 'XKB', 'R': 'VNJ'},\n",
       "  'CBN': {'L': 'GHH', 'R': 'XSL'},\n",
       "  'JKT': {'L': 'QKK', 'R': 'TJL'},\n",
       "  'MQF': {'L': 'XQR', 'R': 'XQR'},\n",
       "  'MVK': {'L': 'NDX', 'R': 'XFG'},\n",
       "  'CPP': {'L': 'SPS', 'R': 'JSS'},\n",
       "  'FJX': {'L': 'NSJ', 'R': 'PJD'},\n",
       "  'SKA': {'L': 'VMT', 'R': 'FBH'},\n",
       "  'NDB': {'L': 'XTH', 'R': 'DFN'},\n",
       "  'CCH': {'L': 'RXN', 'R': 'JSB'},\n",
       "  'VVH': {'L': 'GSN', 'R': 'TVS'},\n",
       "  'SVB': {'L': 'SQP', 'R': 'QVS'},\n",
       "  'JXN': {'L': 'PDJ', 'R': 'SBN'},\n",
       "  'PLN': {'L': 'JTP', 'R': 'PJK'},\n",
       "  'DNR': {'L': 'FTK', 'R': 'JXN'},\n",
       "  'RVC': {'L': 'LHM', 'R': 'HDQ'},\n",
       "  'QKF': {'L': 'VMT', 'R': 'FBH'},\n",
       "  'MNS': {'L': 'GMK', 'R': 'PFR'},\n",
       "  'QLB': {'L': 'FSH', 'R': 'MQP'},\n",
       "  'RHT': {'L': 'XQC', 'R': 'FJX'},\n",
       "  'KCD': {'L': 'VSC', 'R': 'LJB'},\n",
       "  'DQL': {'L': 'QKF', 'R': 'QKF'},\n",
       "  'TBP': {'L': 'LDM', 'R': 'GMS'},\n",
       "  'TRS': {'L': 'NGD', 'R': 'JFG'},\n",
       "  'JKP': {'L': 'LGG', 'R': 'FHR'},\n",
       "  'QXN': {'L': 'VVV', 'R': 'JDP'},\n",
       "  'LCQ': {'L': 'XBQ', 'R': 'GDM'},\n",
       "  'KLJ': {'L': 'DPV', 'R': 'QLM'},\n",
       "  'BFK': {'L': 'NMS', 'R': 'GSK'},\n",
       "  'DXH': {'L': 'RVG', 'R': 'CPS'},\n",
       "  'JTP': {'L': 'TRS', 'R': 'CCS'},\n",
       "  'MNR': {'L': 'CDL', 'R': 'RNX'},\n",
       "  'SFL': {'L': 'XBQ', 'R': 'GDM'},\n",
       "  'TJC': {'L': 'MNS', 'R': 'VNS'},\n",
       "  'SDB': {'L': 'PKV', 'R': 'RTB'},\n",
       "  'BBB': {'L': 'BFD', 'R': 'HDF'},\n",
       "  'QRG': {'L': 'TTG', 'R': 'XTV'},\n",
       "  'XSF': {'L': 'NDV', 'R': 'JQP'},\n",
       "  'HQD': {'L': 'LFK', 'R': 'PPS'},\n",
       "  'FHR': {'L': 'JLL', 'R': 'LXG'},\n",
       "  'FBG': {'L': 'GLC', 'R': 'FHB'},\n",
       "  'XCH': {'L': 'FXH', 'R': 'TRM'},\n",
       "  'SGQ': {'L': 'TCS', 'R': 'TCS'},\n",
       "  'DBZ': {'L': 'GDD', 'R': 'CQN'},\n",
       "  'QFC': {'L': 'MFS', 'R': 'XLJ'},\n",
       "  'KTP': {'L': 'SKS', 'R': 'BCF'},\n",
       "  'HBB': {'L': 'MXL', 'R': 'BXP'},\n",
       "  'TLL': {'L': 'BLH', 'R': 'JGB'},\n",
       "  'RMR': {'L': 'CQM', 'R': 'FHG'},\n",
       "  'BXM': {'L': 'DTN', 'R': 'QXP'},\n",
       "  'GDD': {'L': 'LQS', 'R': 'STG'},\n",
       "  'DFN': {'L': 'VTL', 'R': 'CPQ'},\n",
       "  'DBH': {'L': 'TLV', 'R': 'TFS'},\n",
       "  'HNK': {'L': 'CTC', 'R': 'VJP'},\n",
       "  'FRX': {'L': 'RRF', 'R': 'BFK'},\n",
       "  'XMB': {'L': 'TGB', 'R': 'PGX'},\n",
       "  'NTB': {'L': 'DBB', 'R': 'LPF'},\n",
       "  'MFD': {'L': 'MGS', 'R': 'CFK'},\n",
       "  'JFJ': {'L': 'GGK', 'R': 'NSF'},\n",
       "  'GDJ': {'L': 'FQK', 'R': 'JCQ'},\n",
       "  'XCR': {'L': 'JHB', 'R': 'JHB'},\n",
       "  'LRQ': {'L': 'PDL', 'R': 'MST'},\n",
       "  'DPV': {'L': 'SVB', 'R': 'TVJ'},\n",
       "  'HDC': {'L': 'SFB', 'R': 'KKX'},\n",
       "  'LMM': {'L': 'XTT', 'R': 'XKV'},\n",
       "  'SLL': {'L': 'TRX', 'R': 'JCH'},\n",
       "  'PSQ': {'L': 'BMV', 'R': 'RBH'},\n",
       "  'VJL': {'L': 'VKR', 'R': 'DQN'},\n",
       "  'SPX': {'L': 'DPJ', 'R': 'KRJ'},\n",
       "  'DBB': {'L': 'FBB', 'R': 'XMB'},\n",
       "  'SPS': {'L': 'FLV', 'R': 'XPM'},\n",
       "  'FRM': {'L': 'LDX', 'R': 'SVF'},\n",
       "  'PKX': {'L': 'CNJ', 'R': 'PSX'},\n",
       "  'TMM': {'L': 'GBM', 'R': 'MKH'},\n",
       "  'VDR': {'L': 'MQK', 'R': 'HNN'},\n",
       "  'MHM': {'L': 'KKR', 'R': 'BXQ'},\n",
       "  'TVN': {'L': 'XQK', 'R': 'QRG'},\n",
       "  'NSF': {'L': 'VDJ', 'R': 'FLJ'},\n",
       "  'FXH': {'L': 'DJJ', 'R': 'FJS'},\n",
       "  'FGJ': {'L': 'JCR', 'R': 'CJV'},\n",
       "  'SJH': {'L': 'FCD', 'R': 'CPP'},\n",
       "  'JJT': {'L': 'VVC', 'R': 'PFT'},\n",
       "  'DRB': {'L': 'DXH', 'R': 'XMS'},\n",
       "  'LNP': {'L': 'QJS', 'R': 'SDB'},\n",
       "  'FKG': {'L': 'NDJ', 'R': 'PCV'},\n",
       "  'CQM': {'L': 'LLC', 'R': 'QSK'},\n",
       "  'HTP': {'L': 'FSH', 'R': 'MQP'},\n",
       "  'FJQ': {'L': 'XCR', 'R': 'XCR'},\n",
       "  'CFK': {'L': 'QHS', 'R': 'XBD'},\n",
       "  'QJG': {'L': 'DJV', 'R': 'XPP'},\n",
       "  'KKX': {'L': 'FQH', 'R': 'TMH'},\n",
       "  'LSJ': {'L': 'TCP', 'R': 'JPN'},\n",
       "  'QHD': {'L': 'JPN', 'R': 'TCP'},\n",
       "  'PVR': {'L': 'SML', 'R': 'VVH'},\n",
       "  'XSJ': {'L': 'NVN', 'R': 'QXV'},\n",
       "  'QMV': {'L': 'FHG', 'R': 'CQM'},\n",
       "  'NFD': {'L': 'TGH', 'R': 'PFK'},\n",
       "  'LTJ': {'L': 'GHB', 'R': 'RVC'},\n",
       "  'HCQ': {'L': 'HDC', 'R': 'QPG'},\n",
       "  'JKV': {'L': 'LPF', 'R': 'DBB'},\n",
       "  'BNQ': {'L': 'NQD', 'R': 'VNT'},\n",
       "  'GGK': {'L': 'VDJ', 'R': 'FLJ'},\n",
       "  'LLC': {'L': 'NNT', 'R': 'TBH'},\n",
       "  'SKB': {'L': 'TVN', 'R': 'CJQ'},\n",
       "  'KRJ': {'L': 'DBK', 'R': 'VXJ'},\n",
       "  'BTJ': {'L': 'MML', 'R': 'MGQ'},\n",
       "  'GJM': {'L': 'CCK', 'R': 'GTF'},\n",
       "  'JHF': {'L': 'QHD', 'R': 'LSJ'},\n",
       "  'GFJ': {'L': 'FHQ', 'R': 'MQJ'},\n",
       "  'LFK': {'L': 'NQN', 'R': 'RHG'},\n",
       "  'GVD': {'L': 'TCS', 'R': 'NNZ'},\n",
       "  'XDH': {'L': 'VVT', 'R': 'BXF'},\n",
       "  'NCK': {'L': 'BMJ', 'R': 'GJM'},\n",
       "  'QRL': {'L': 'FLK', 'R': 'LHH'},\n",
       "  'XKL': {'L': 'RJK', 'R': 'RMC'},\n",
       "  'TXF': {'L': 'BMJ', 'R': 'GJM'},\n",
       "  'TVS': {'L': 'DRN', 'R': 'KKD'},\n",
       "  'FXQ': {'L': 'JHJ', 'R': 'RJP'},\n",
       "  'XTB': {'L': 'PQQ', 'R': 'TTQ'},\n",
       "  'XBB': {'L': 'SRT', 'R': 'FJB'},\n",
       "  'DFP': {'L': 'JBV', 'R': 'PVS'},\n",
       "  'NQA': {'L': 'NNG', 'R': 'KCL'},\n",
       "  'DKH': {'L': 'FRM', 'R': 'FRK'},\n",
       "  'CCK': {'L': 'TRQ', 'R': 'QNQ'},\n",
       "  'XTJ': {'L': 'MNS', 'R': 'VNS'},\n",
       "  'MDP': {'L': 'FJB', 'R': 'SRT'},\n",
       "  'QBV': {'L': 'JCQ', 'R': 'FQK'},\n",
       "  'PKV': {'L': 'RHT', 'R': 'SPG'},\n",
       "  'CJV': {'L': 'FDC', 'R': 'TQF'},\n",
       "  'LSH': {'L': 'JVX', 'R': 'ZZZ'},\n",
       "  'JJK': {'L': 'CRN', 'R': 'KMJ'},\n",
       "  'LPT': {'L': 'MQB', 'R': 'VLQ'},\n",
       "  'RHG': {'L': 'BFL', 'R': 'SJT'},\n",
       "  'FLT': {'L': 'XDH', 'R': 'VFP'},\n",
       "  'KVX': {'L': 'JHF', 'R': 'SKG'},\n",
       "  'FXB': {'L': 'XTJ', 'R': 'TJC'},\n",
       "  'HSJ': {'L': 'XGS', 'R': 'MKD'},\n",
       "  'PDJ': {'L': 'TXS', 'R': 'QXB'},\n",
       "  'XNP': {'L': 'XTB', 'R': 'RSP'},\n",
       "  'LGT': {'L': 'QVC', 'R': 'XLC'},\n",
       "  'XPP': {'L': 'TRF', 'R': 'TFJ'},\n",
       "  'XQR': {'L': 'CQN', 'R': 'GDD'},\n",
       "  'NNV': {'L': 'SRN', 'R': 'SPX'},\n",
       "  'FLV': {'L': 'MFD', 'R': 'BSQ'},\n",
       "  'QVS': {'L': 'XGV', 'R': 'JML'},\n",
       "  'JSL': {'L': 'JVX', 'R': 'JVX'},\n",
       "  'CQP': {'L': 'QQB', 'R': 'KNT'},\n",
       "  'TVK': {'L': 'KLJ', 'R': 'HPL'},\n",
       "  'QNS': {'L': 'JMQ', 'R': 'TTN'},\n",
       "  'BXP': {'L': 'FHL', 'R': 'RSB'},\n",
       "  'JFG': {'L': 'KMB', 'R': 'SRF'},\n",
       "  'GMK': {'L': 'MMX', 'R': 'BQC'},\n",
       "  'MTX': {'L': 'KLM', 'R': 'XHN'},\n",
       "  'CTM': {'L': 'JCH', 'R': 'TRX'},\n",
       "  'XBM': {'L': 'SCJ', 'R': 'VHN'},\n",
       "  'RCD': {'L': 'PVR', 'R': 'TCK'},\n",
       "  'XLJ': {'L': 'LRQ', 'R': 'SDL'},\n",
       "  'PPL': {'L': 'JTJ', 'R': 'SKB'},\n",
       "  'NQF': {'L': 'NKF', 'R': 'RCG'},\n",
       "  'RSB': {'L': 'FGT', 'R': 'RJS'},\n",
       "  'NCV': {'L': 'FKK', 'R': 'NGF'},\n",
       "  'GHF': {'L': 'QTT', 'R': 'QQQ'},\n",
       "  'XVL': {'L': 'PVM', 'R': 'CLK'},\n",
       "  'VMD': {'L': 'XKL', 'R': 'TJS'},\n",
       "  'CTR': {'L': 'VJP', 'R': 'CTC'},\n",
       "  'CGM': {'L': 'JJC', 'R': 'HFM'},\n",
       "  'PJD': {'L': 'XVL', 'R': 'FKS'},\n",
       "  'LJA': {'L': 'CQN', 'R': 'GDD'},\n",
       "  'MKH': {'L': 'MNR', 'R': 'SVS'},\n",
       "  'JVB': {'L': 'DHR', 'R': 'BKX'},\n",
       "  'HDD': {'L': 'DJP', 'R': 'JFJ'},\n",
       "  'XGM': {'L': 'CJN', 'R': 'KVB'},\n",
       "  'HHK': {'L': 'LTJ', 'R': 'BKB'},\n",
       "  'CJQ': {'L': 'XQK', 'R': 'QRG'},\n",
       "  'FHL': {'L': 'RJS', 'R': 'FGT'},\n",
       "  'FQQ': {'L': 'XGG', 'R': 'LNN'},\n",
       "  'MMX': {'L': 'MVH', 'R': 'VBS'},\n",
       "  'FLS': {'L': 'TQD', 'R': 'LDH'},\n",
       "  'VMT': {'L': 'HXT', 'R': 'FBG'},\n",
       "  'PSM': {'L': 'LJV', 'R': 'XCH'},\n",
       "  'JBV': {'L': 'XGB', 'R': 'SHS'},\n",
       "  'FSR': {'L': 'QSS', 'R': 'KMH'},\n",
       "  'FDT': {'L': 'GHH', 'R': 'XSL'},\n",
       "  'LSB': {'L': 'GCD', 'R': 'JVB'},\n",
       "  'XMS': {'L': 'CPS', 'R': 'RVG'},\n",
       "  'FLK': {'L': 'GRB', 'R': 'DRQ'},\n",
       "  'PGL': {'L': 'TJX', 'R': 'MJC'},\n",
       "  'JCN': {'L': 'HTP', 'R': 'QLB'},\n",
       "  'JRJ': {'L': 'RRF', 'R': 'BFK'},\n",
       "  'FFH': {'L': 'DQL', 'R': 'DQL'},\n",
       "  'XTV': {'L': 'FDM', 'R': 'PTQ'},\n",
       "  'VKR': {'L': 'XDN', 'R': 'CTP'},\n",
       "  'XXK': {'L': 'CQP', 'R': 'QJF'},\n",
       "  'SKG': {'L': 'QHD', 'R': 'LSJ'},\n",
       "  'MQP': {'L': 'XXN', 'R': 'FBM'},\n",
       "  'GFN': {'L': 'JXC', 'R': 'CSR'},\n",
       "  'BJC': {'L': 'TTN', 'R': 'JMQ'},\n",
       "  'NVN': {'L': 'FSR', 'R': 'NQJ'},\n",
       "  'PHB': {'L': 'QGF', 'R': 'LSB'},\n",
       "  'NPJ': {'L': 'VCP', 'R': 'BJK'},\n",
       "  'LNN': {'L': 'LVD', 'R': 'RCD'},\n",
       "  'BRK': {'L': 'FHF', 'R': 'XSJ'},\n",
       "  'JBH': {'L': 'HDD', 'R': 'JRT'},\n",
       "  'XXN': {'L': 'FQJ', 'R': 'HBB'},\n",
       "  'SJT': {'L': 'JJF', 'R': 'VJG'},\n",
       "  'DCM': {'L': 'NMK', 'R': 'KNH'},\n",
       "  'GSK': {'L': 'XQJ', 'R': 'TLL'},\n",
       "  'XGT': {'L': 'CQP', 'R': 'QJF'},\n",
       "  'RJK': {'L': 'FRX', 'R': 'JRJ'},\n",
       "  'DJJ': {'L': 'PLN', 'R': 'DPB'},\n",
       "  'TRF': {'L': 'LPT', 'R': 'KMK'},\n",
       "  'JCR': {'L': 'TQF', 'R': 'FDC'},\n",
       "  'RPH': {'L': 'TXM', 'R': 'HGC'},\n",
       "  'MKB': {'L': 'NTB', 'R': 'JKV'},\n",
       "  'XQC': {'L': 'PJD', 'R': 'NSJ'},\n",
       "  'NGD': {'L': 'SRF', 'R': 'KMB'},\n",
       "  'GVX': {'L': 'KMJ', 'R': 'CRN'},\n",
       "  'GPK': {'L': 'GKT', 'R': 'JKP'},\n",
       "  'SVN': {'L': 'FLT', 'R': 'XFS'},\n",
       "  'FBB': {'L': 'PGX', 'R': 'TGB'},\n",
       "  'CDR': {'L': 'DTP', 'R': 'NFD'},\n",
       "  'HGC': {'L': 'HXM', 'R': 'GFB'},\n",
       "  'PQR': {'L': 'HHH', 'R': 'LLJ'},\n",
       "  'QNQ': {'L': 'SNB', 'R': 'QRR'},\n",
       "  'NVA': {'L': 'PBN', 'R': 'VMD'},\n",
       "  'NFH': {'L': 'SGJ', 'R': 'MJQ'},\n",
       "  'NMK': {'L': 'QXF', 'R': 'DGS'},\n",
       "  'XLM': {'L': 'CTR', 'R': 'HNK'},\n",
       "  'NQN': {'L': 'SJT', 'R': 'BFL'}})"
      ]
     },
     "execution_count": 20,
     "metadata": {},
     "output_type": "execute_result"
    }
   ],
   "source": [
    "instructions, network"
   ]
  },
  {
   "cell_type": "markdown",
   "metadata": {},
   "source": [
    "### Part 1"
   ]
  },
  {
   "cell_type": "code",
   "execution_count": 22,
   "metadata": {},
   "outputs": [],
   "source": [
    "def loop_on_condition(current, condition:typ.Callable[str, bool])->int: \n",
    "    for count, inst in enumerate(itertools.cycle(instructions)): \n",
    "            current = network[current][inst] \n",
    "            if condition(current): \n",
    "                return count + 1"
   ]
  },
  {
   "cell_type": "code",
   "execution_count": 26,
   "metadata": {},
   "outputs": [
    {
     "data": {
      "text/plain": [
       "17141"
      ]
     },
     "execution_count": 26,
     "metadata": {},
     "output_type": "execute_result"
    }
   ],
   "source": [
    "answ = loop_on_condition(\"AAA\",lambda x : x == \"ZZZ\") \n",
    "answ"
   ]
  },
  {
   "cell_type": "code",
   "execution_count": 25,
   "metadata": {},
   "outputs": [],
   "source": [
    "puzzle.answer_a = answ"
   ]
  },
  {
   "cell_type": "markdown",
   "metadata": {},
   "source": [
    "### Part 2"
   ]
  },
  {
   "cell_type": "code",
   "execution_count": 27,
   "metadata": {},
   "outputs": [],
   "source": [
    "starts = [key for key in network.keys() if key[-1]==\"A\"]\n",
    "cycle_lengths = [loop_on_condition(start,lambda x : x[-1] == \"Z\") for start in starts]"
   ]
  },
  {
   "cell_type": "code",
   "execution_count": 28,
   "metadata": {},
   "outputs": [
    {
     "data": {
      "text/plain": [
       "[17141, 16579, 18827, 12083, 13207, 22199]"
      ]
     },
     "execution_count": 28,
     "metadata": {},
     "output_type": "execute_result"
    }
   ],
   "source": [
    "cycle_lengths"
   ]
  },
  {
   "cell_type": "code",
   "execution_count": 29,
   "metadata": {},
   "outputs": [
    {
     "data": {
      "text/plain": [
       "10818234074807"
      ]
     },
     "execution_count": 29,
     "metadata": {},
     "output_type": "execute_result"
    }
   ],
   "source": [
    "answ = math.lcm(*cycle_lengths)\n",
    "answ"
   ]
  },
  {
   "cell_type": "code",
   "execution_count": 30,
   "metadata": {},
   "outputs": [],
   "source": [
    "puzzle.answer_b = answ"
   ]
  },
  {
   "cell_type": "markdown",
   "metadata": {},
   "source": [
    "## Day 7\n",
    "\n",
    "https://adventofcode.com/2023/day/7\n",
    "\n",
    "### Prepare input"
   ]
  },
  {
   "cell_type": "code",
   "execution_count": null,
   "metadata": {},
   "outputs": [],
   "source": [
    "puzzle = Puzzle(year=2023, day=7)\n",
    "content = puzzle.input_data.split(\"\\n\")\n",
    "content"
   ]
  },
  {
   "cell_type": "code",
   "execution_count": null,
   "metadata": {},
   "outputs": [],
   "source": [
    "map_card = {\"T\":10,\"J\":11,\"Q\":12,\"K\":13,\"A\":14}\n",
    "hands = [[[int(map_card.get(card, card)) for card in line.split()[0]], Counter(line.split()[0]), int(line.split()[1])] for line in content]\n",
    "hands"
   ]
  },
  {
   "cell_type": "markdown",
   "metadata": {},
   "source": [
    "### Part 1"
   ]
  },
  {
   "cell_type": "code",
   "execution_count": null,
   "metadata": {},
   "outputs": [],
   "source": [
    "def winnings(hands:typ.List[typ.List[typ.Any]])->int:\n",
    "\n",
    "    def rank(x:int,y:int)->int: \n",
    "        return (x+1)*y\n",
    "        \n",
    "    def sorting_fnc(hand:typ.List[typ.Any])->typ.Tuple[typ.List[int],typ.List[int]]:\n",
    "        return sorted(hand[1].values(), reverse=True), hand[0]\n",
    "\n",
    "    return sum(rank(i,hand[2]) for i,hand in enumerate(sorted(hands, key=sorting_fnc)))"
   ]
  },
  {
   "cell_type": "code",
   "execution_count": null,
   "metadata": {},
   "outputs": [],
   "source": [
    "answ = winnings(hands)"
   ]
  },
  {
   "cell_type": "code",
   "execution_count": null,
   "metadata": {},
   "outputs": [],
   "source": [
    "answ"
   ]
  },
  {
   "cell_type": "code",
   "execution_count": null,
   "metadata": {},
   "outputs": [],
   "source": [
    "puzzle.answer_a = answ"
   ]
  },
  {
   "cell_type": "markdown",
   "metadata": {},
   "source": [
    "### Part 2"
   ]
  },
  {
   "cell_type": "code",
   "execution_count": null,
   "metadata": {},
   "outputs": [],
   "source": [
    "new_map_card = {\"T\":10,\"J\":0,\"Q\":12,\"K\":13,\"A\":14}\n",
    "new_hands = []\n",
    "for line in content: \n",
    "    hand, bid = line.split()\n",
    "    hand_count = Counter(hand) \n",
    "    new_hand = [int(new_map_card.get(card, card)) for card in hand]\n",
    "\n",
    "    j_count = hand_count[\"J\"]\n",
    "    if  j_count != 5: \n",
    "        hand_count[\"J\"]=0\n",
    "        mc = hand_count.most_common()[0]\n",
    "        hand_count[mc[0]]= hand_count[mc[0]] + j_count\n",
    "        \n",
    "    new_hands.append([new_hand, hand_count, int(bid)])"
   ]
  },
  {
   "cell_type": "code",
   "execution_count": null,
   "metadata": {},
   "outputs": [],
   "source": [
    "new_hands"
   ]
  },
  {
   "cell_type": "code",
   "execution_count": null,
   "metadata": {},
   "outputs": [],
   "source": [
    "answ = winnings(new_hands)\n",
    "answ"
   ]
  },
  {
   "cell_type": "code",
   "execution_count": null,
   "metadata": {},
   "outputs": [],
   "source": [
    "puzzle.answer_b = answ"
   ]
  },
  {
   "cell_type": "markdown",
   "metadata": {},
   "source": [
    "## Day 6\n",
    "\n",
    "https://adventofcode.com/2023/day/6\n",
    "\n",
    "### Prepare input"
   ]
  },
  {
   "cell_type": "code",
   "execution_count": 33,
   "metadata": {},
   "outputs": [
    {
     "data": {
      "text/plain": [
       "['Time:        47     98     66     98',\n",
       " 'Distance:   400   1213   1011   1540']"
      ]
     },
     "execution_count": 33,
     "metadata": {},
     "output_type": "execute_result"
    }
   ],
   "source": [
    "puzzle = Puzzle(year=2023, day=6)\n",
    "content = puzzle.input_data.split(\"\\n\")\n",
    "content"
   ]
  },
  {
   "cell_type": "code",
   "execution_count": 34,
   "metadata": {},
   "outputs": [],
   "source": [
    "def parse_1(s:str)->typ.List[int]: \n",
    "    return list(map(int,re.findall(\"\\d+\", s)))\n",
    "times = parse_1(content[0])\n",
    "distances = parse_1(content[1])"
   ]
  },
  {
   "cell_type": "markdown",
   "metadata": {},
   "source": [
    "### Part 1"
   ]
  },
  {
   "cell_type": "code",
   "execution_count": 35,
   "metadata": {},
   "outputs": [
    {
     "data": {
      "text/plain": [
       "1660968"
      ]
     },
     "execution_count": 35,
     "metadata": {},
     "output_type": "execute_result"
    }
   ],
   "source": [
    "answ = math.prod(sum((t*(tot_time-t))>record_dist for t in range(tot_time)) for tot_time, record_dist in zip(times, distances))\n",
    "answ"
   ]
  },
  {
   "cell_type": "code",
   "execution_count": 36,
   "metadata": {},
   "outputs": [],
   "source": [
    "puzzle.answer_a = answ"
   ]
  },
  {
   "cell_type": "markdown",
   "metadata": {},
   "source": [
    "### Part 2"
   ]
  },
  {
   "cell_type": "code",
   "execution_count": 37,
   "metadata": {},
   "outputs": [],
   "source": [
    "def parse_2(s:str)->int:\n",
    "    return int(\"\".join(re.findall(\"\\d+\", s)))\n",
    "time = parse_2(content[0])\n",
    "dist = parse_2(content[1])"
   ]
  },
  {
   "cell_type": "code",
   "execution_count": 38,
   "metadata": {},
   "outputs": [
    {
     "name": "stderr",
     "output_type": "stream",
     "text": [
      "100%|██████████████| 47986698/47986698 [00:06<00:00, 6954903.58it/s]\n"
     ]
    },
    {
     "data": {
      "text/plain": [
       "26499773"
      ]
     },
     "execution_count": 38,
     "metadata": {},
     "output_type": "execute_result"
    }
   ],
   "source": [
    "answ = sum((t*(time-t))>dist for t in tqdm((range(time))))\n",
    "answ"
   ]
  },
  {
   "cell_type": "code",
   "execution_count": 39,
   "metadata": {},
   "outputs": [],
   "source": [
    "puzzle.answer_b = answ"
   ]
  },
  {
   "cell_type": "markdown",
   "metadata": {},
   "source": [
    "## Day 5\n",
    "\n",
    "https://adventofcode.com/2023/day/5\n",
    "\n",
    "### Prepare input"
   ]
  },
  {
   "cell_type": "code",
   "execution_count": 41,
   "metadata": {},
   "outputs": [],
   "source": [
    "puzzle = Puzzle(year=2023, day=5)\n",
    "content =[line.split(\":\") for line in puzzle.input_data.split(\"\\n\\n\")]\n",
    "#content"
   ]
  },
  {
   "cell_type": "code",
   "execution_count": null,
   "metadata": {},
   "outputs": [],
   "source": [
    "seeds = list(map(int, re.findall(r\"\\d+\", content[0][1])))"
   ]
  },
  {
   "cell_type": "code",
   "execution_count": null,
   "metadata": {},
   "outputs": [],
   "source": [
    "mappings = dict()\n",
    "for line in content[1:]: \n",
    "    source_name, dest_name = re.findall(r\"(\\w+)-to-(\\w+) map\", line[0])[0]\n",
    "    mappings[source_name] = {\"dest\": dest_name, \n",
    "                             \"mapping\": [list(map(int, re.findall(r\"\\d+\", l))) for l in line[1].strip().split(\"\\n\")]}"
   ]
  },
  {
   "cell_type": "code",
   "execution_count": null,
   "metadata": {},
   "outputs": [],
   "source": [
    "mappings"
   ]
  },
  {
   "cell_type": "markdown",
   "metadata": {},
   "source": [
    "### Part 1"
   ]
  },
  {
   "cell_type": "code",
   "execution_count": null,
   "metadata": {},
   "outputs": [],
   "source": [
    "def apply_maps(number:int,cur_source:str)->int: \n",
    "    if cur_source == \"location\":\n",
    "        return number\n",
    "    cur_map = mappings[cur_source]\n",
    "    new_source = cur_map[\"dest\"]\n",
    "    for dest_start, source_start, range_len in cur_map[\"mapping\"]: \n",
    "        if source_start <= number < source_start + range_len: \n",
    "            new_number = dest_start + number - source_start\n",
    "            return apply_maps(new_number, new_source)\n",
    "    return apply_maps(number, new_source)"
   ]
  },
  {
   "cell_type": "code",
   "execution_count": null,
   "metadata": {},
   "outputs": [],
   "source": [
    "answ = min(apply_maps(seed_num, \"seed\") for seed_num in seeds)\n",
    "answ"
   ]
  },
  {
   "cell_type": "code",
   "execution_count": null,
   "metadata": {},
   "outputs": [],
   "source": [
    "puzzle.answer_a = answ"
   ]
  },
  {
   "cell_type": "markdown",
   "metadata": {},
   "source": [
    "### Part 2"
   ]
  },
  {
   "cell_type": "code",
   "execution_count": null,
   "metadata": {},
   "outputs": [],
   "source": [
    "reverse_mappings = dict()\n",
    "for line in content[1:]: \n",
    "    source_name, dest_name = re.findall(r\"(\\w+)-to-(\\w+) map\", line[0])[0]\n",
    "    reverse_mappings[dest_name] = {\"source\": source_name, \n",
    "                             \"mapping\": [list(map(int, re.findall(r\"\\d+\", l))) for l in line[1].strip().split(\"\\n\")]}"
   ]
  },
  {
   "cell_type": "code",
   "execution_count": null,
   "metadata": {},
   "outputs": [],
   "source": [
    "reverse_mappings"
   ]
  },
  {
   "cell_type": "code",
   "execution_count": null,
   "metadata": {},
   "outputs": [],
   "source": [
    "def is_seed(number:int)->bool: \n",
    "    for start,range in zip(seeds[::2],seeds[1::2]):\n",
    "        if start <= number < start+range: \n",
    "            return True\n",
    "    return False"
   ]
  },
  {
   "cell_type": "code",
   "execution_count": null,
   "metadata": {},
   "outputs": [],
   "source": [
    "def reverse_maps(number:int, cur_dest:str)->int: \n",
    "    if cur_dest == \"seed\": \n",
    "        return number\n",
    "    cur_map = reverse_mappings[cur_dest]\n",
    "    new_dest = cur_map[\"source\"]\n",
    "    for dest_start, source_start, range_len in cur_map[\"mapping\"]: \n",
    "        if dest_start <= number < dest_start + range_len: \n",
    "            new_number = source_start + number - dest_start \n",
    "            return reverse_maps(new_number, new_dest)\n",
    "    return reverse_maps(number, new_dest) "
   ]
  },
  {
   "cell_type": "code",
   "execution_count": null,
   "metadata": {},
   "outputs": [],
   "source": [
    "from itertools import count\n",
    "for loc in tqdm(count()): \n",
    "    if is_seed(reverse_maps(loc, \"location\")):\n",
    "        break\n",
    "loc"
   ]
  },
  {
   "cell_type": "code",
   "execution_count": null,
   "metadata": {},
   "outputs": [],
   "source": [
    "puzzle.answer_b = loc"
   ]
  },
  {
   "cell_type": "markdown",
   "metadata": {},
   "source": [
    "## Day 4\n",
    "\n",
    "https://adventofcode.com/2023/day/4\n",
    "\n",
    "### Prepare input"
   ]
  },
  {
   "cell_type": "code",
   "execution_count": null,
   "metadata": {},
   "outputs": [],
   "source": [
    "puzzle = Puzzle(year=2023, day=4)\n",
    "content =[re.split(r\":|\\|\", line) for line in puzzle.input_data.split(\"\\n\")]\n",
    "content"
   ]
  },
  {
   "cell_type": "markdown",
   "metadata": {},
   "source": [
    "### Part 1"
   ]
  },
  {
   "cell_type": "code",
   "execution_count": null,
   "metadata": {},
   "outputs": [],
   "source": [
    "n_winnings = [(sum(x in list(map(int,ours.strip().split())) for x in list(map(int,winning.strip().split()))) ) for _,winning,ours in content]"
   ]
  },
  {
   "cell_type": "code",
   "execution_count": null,
   "metadata": {},
   "outputs": [],
   "source": [
    "points = sum(2**(n-1) for n in n_winnings if n!=0)"
   ]
  },
  {
   "cell_type": "code",
   "execution_count": null,
   "metadata": {},
   "outputs": [],
   "source": [
    "points"
   ]
  },
  {
   "cell_type": "code",
   "execution_count": null,
   "metadata": {},
   "outputs": [],
   "source": [
    "puzzle.answer_a = points"
   ]
  },
  {
   "cell_type": "markdown",
   "metadata": {},
   "source": [
    "### Part 2"
   ]
  },
  {
   "cell_type": "code",
   "execution_count": null,
   "metadata": {},
   "outputs": [],
   "source": [
    "copies = {id+1 : 1 for id in range(len(content))}"
   ]
  },
  {
   "cell_type": "code",
   "execution_count": null,
   "metadata": {},
   "outputs": [],
   "source": [
    "for cur_id, n_wins in enumerate(n_winnings): \n",
    "    for next_id in range(cur_id+1, cur_id+n_wins+1): \n",
    "        copies[next_id] += copies[cur_id]"
   ]
  },
  {
   "cell_type": "code",
   "execution_count": null,
   "metadata": {},
   "outputs": [],
   "source": [
    "answ = sum(copies.values())\n",
    "answ"
   ]
  },
  {
   "cell_type": "code",
   "execution_count": null,
   "metadata": {},
   "outputs": [],
   "source": [
    "puzzle.answer_b = answ"
   ]
  },
  {
   "cell_type": "markdown",
   "metadata": {},
   "source": [
    "## Day 3\n",
    "\n",
    "https://adventofcode.com/2023/day/3\n",
    "\n",
    "### Prepare input"
   ]
  },
  {
   "cell_type": "code",
   "execution_count": null,
   "metadata": {},
   "outputs": [],
   "source": [
    "puzzle = Puzzle(year=2023, day=3)\n",
    "content = puzzle.input_data.split(\"\\n\")\n",
    "content"
   ]
  },
  {
   "cell_type": "markdown",
   "metadata": {},
   "source": [
    "### Part 1"
   ]
  },
  {
   "cell_type": "code",
   "execution_count": null,
   "metadata": {},
   "outputs": [],
   "source": [
    "def check_neighbours(array:typ.List[str], row:int, col:int)->bool:\n",
    "\n",
    "    def get_neighbours()->typ.Tuple[str,str,str,str,str,str,str,str]:\n",
    "        top = array[row-1][col] if row != 0 else \".\"\n",
    "        bottom = array[row+1][col] if row != len(array)-1 else \".\" \n",
    "        left = array[row][col-1] if col != 0 else \".\"\n",
    "        right = array[row][col+1] if col != len(array[0])-1 else \".\"\n",
    "        \n",
    "        tl = array[row-1][col-1] if row != 0 and col != 0 else \".\"\n",
    "        tr = array[row-1][col+1] if row != 0 and col != len(array[0])-1 else \".\"\n",
    "        bl = array[row+1][col-1] if row != len(array)-1 and col != 0 else \".\"\n",
    "        br = array[row+1][col+1] if row != len(array)-1 and col != len(array[0])-1 else \".\"\n",
    "        \n",
    "        return top, bottom, left, right, tl, tr, bl, br\n",
    "    \n",
    "    return any(n in string.punctuation.replace(\".\",\"\") for n in get_all_neighbours())\n"
   ]
  },
  {
   "cell_type": "code",
   "execution_count": null,
   "metadata": {},
   "outputs": [],
   "source": [
    "parts = [(number, row) \n",
    "    for row, row_numbers in enumerate(re.finditer(r\"\\d+\", line) for line in content) \n",
    "    for number in row_numbers\n",
    "    if any(check_neighbours(content, row, col) for col in range(number.span()[0],number.span()[1]))\n",
    "]\n",
    "\n",
    "answ = sum(int(part[0].group()) for part in parts)"
   ]
  },
  {
   "cell_type": "code",
   "execution_count": null,
   "metadata": {},
   "outputs": [],
   "source": [
    "answ"
   ]
  },
  {
   "cell_type": "code",
   "execution_count": null,
   "metadata": {},
   "outputs": [],
   "source": [
    "puzzle.answer_a = answ"
   ]
  },
  {
   "cell_type": "markdown",
   "metadata": {},
   "source": [
    "### Part 2"
   ]
  },
  {
   "cell_type": "code",
   "execution_count": null,
   "metadata": {},
   "outputs": [],
   "source": [
    "def find_gears(array:typ.List[str], row:int, col:int)->typ.List[typ.Tuple[int,int]]: \n",
    "    \n",
    "    def get_neighbours_pos()->typ.List[typ.Tuple[int,int]]: \n",
    "        neighbours = []\n",
    "        if col != 0: \n",
    "            neighbours.append((row, col-1))\n",
    "        if col != len(array[0])-1: \n",
    "            neighbours.append((row, col+1))\n",
    "        if row != 0: \n",
    "            neighbours.append((row-1, col))\n",
    "            if col != 0: \n",
    "                neighbours.append((row-1, col-1))\n",
    "            if col != len(array[0])-1: \n",
    "                neighbours.append((row-1, col+1))\n",
    "        if row != len(array)-1: \n",
    "            neighbours.append((row+1,col))\n",
    "            if col != 0: \n",
    "                neighbours.append((row+1, col-1))\n",
    "            if col != len(array[0])-1: \n",
    "                neighbours.append((row+1, col+1))\n",
    "\n",
    "        return neighbours\n",
    "\n",
    "    return [n for n in get_neighbours_pos() if array[n[0]][n[1]] == \"*\"]\n",
    "                                  "
   ]
  },
  {
   "cell_type": "code",
   "execution_count": null,
   "metadata": {},
   "outputs": [],
   "source": [
    "gears = defaultdict(list)\n",
    "for part in parts: \n",
    "    number = part[0]\n",
    "    row = part[1]\n",
    "    gear_positions = set()\n",
    "    for col in range(number.span()[0],number.span()[1]): \n",
    "        gear_positions.update(find_gears(content, row, col))\n",
    "    for gear_pos in gear_positions: \n",
    "        gears[gear_pos].append(int(number.group()))"
   ]
  },
  {
   "cell_type": "code",
   "execution_count": null,
   "metadata": {},
   "outputs": [],
   "source": [
    "answ = sum(math.prod(gear_parts) for gear, gear_parts in gears.items() if len(gear_parts)==2) \n",
    "answ "
   ]
  },
  {
   "cell_type": "code",
   "execution_count": null,
   "metadata": {},
   "outputs": [],
   "source": [
    "puzzle.answer_b = answ"
   ]
  },
  {
   "cell_type": "markdown",
   "metadata": {},
   "source": [
    "## Day 2\n",
    "\n",
    "https://adventofcode.com/2023/day/2\n",
    "\n",
    "### Prepare input"
   ]
  },
  {
   "cell_type": "code",
   "execution_count": 42,
   "metadata": {},
   "outputs": [],
   "source": [
    "puzzle = Puzzle(year=2023, day=2)"
   ]
  },
  {
   "cell_type": "code",
   "execution_count": 43,
   "metadata": {},
   "outputs": [
    {
     "data": {
      "text/plain": [
       "['Game 1: 1 blue; 4 green, 5 blue; 11 red, 3 blue, 11 green; 1 red, 10 green, 4 blue; 17 red, 12 green, 7 blue; 3 blue, 19 green, 15 red',\n",
       " 'Game 2: 17 red, 10 green; 3 blue, 17 red, 7 green; 10 green, 1 blue, 10 red; 7 green, 15 red, 1 blue; 7 green, 8 blue, 16 red; 18 red, 5 green, 3 blue',\n",
       " 'Game 3: 10 blue, 3 green, 8 red; 15 green, 14 blue, 1 red; 8 blue, 11 red, 2 green; 5 red, 9 green, 6 blue',\n",
       " 'Game 4: 1 red, 3 blue; 3 blue, 3 green, 1 red; 11 blue, 2 green; 2 green, 14 blue; 1 green, 7 blue; 11 blue, 5 green',\n",
       " 'Game 5: 9 green, 5 red, 10 blue; 9 red, 4 blue, 12 green; 9 green, 6 blue, 14 red; 16 green, 8 red, 6 blue; 11 blue, 13 red, 1 green',\n",
       " 'Game 6: 1 blue, 2 green, 16 red; 1 green, 19 red; 1 blue; 3 blue, 2 red, 1 green; 18 red, 2 blue, 1 green',\n",
       " 'Game 7: 2 blue, 9 red, 5 green; 11 blue, 6 green, 4 red; 7 red, 3 green, 5 blue; 5 green, 11 blue, 7 red; 17 blue, 4 red, 3 green; 20 blue, 1 green, 2 red',\n",
       " 'Game 8: 1 green, 6 red, 4 blue; 8 green, 4 blue, 2 red; 2 blue, 5 green',\n",
       " 'Game 9: 1 green, 5 blue; 4 blue; 2 red, 1 blue',\n",
       " 'Game 10: 1 green, 12 blue; 6 red, 4 green; 5 green, 14 blue, 9 red; 6 red, 13 blue, 2 green; 6 red, 17 blue, 1 green',\n",
       " 'Game 11: 19 green, 1 red; 15 red, 7 green; 1 blue, 8 red, 14 green; 1 blue, 11 green, 1 red',\n",
       " 'Game 12: 4 red, 3 green, 12 blue; 4 green, 13 red; 2 green, 15 blue, 5 red; 5 red, 10 blue, 3 green; 3 green, 17 blue, 17 red; 1 red, 4 green, 15 blue',\n",
       " 'Game 13: 5 red, 7 blue; 6 red, 1 green, 11 blue; 17 blue, 11 green, 4 red; 6 red, 9 green, 5 blue; 4 green, 14 blue',\n",
       " 'Game 14: 6 red, 15 blue, 3 green; 4 green, 4 blue, 3 red; 3 blue, 1 green, 5 red',\n",
       " 'Game 15: 4 green, 3 blue, 6 red; 3 blue, 2 red, 4 green; 15 red, 3 green, 4 blue; 11 red, 2 blue, 1 green',\n",
       " 'Game 16: 4 green, 1 blue, 12 red; 10 green, 6 blue, 10 red; 1 blue, 2 green, 15 red; 1 green, 3 red, 4 blue',\n",
       " 'Game 17: 10 green, 11 blue; 13 green, 10 blue, 3 red; 8 red, 3 green, 10 blue',\n",
       " 'Game 18: 3 red; 4 red, 1 blue; 3 green, 3 red; 10 green, 1 blue; 4 red, 6 green, 1 blue; 3 green',\n",
       " 'Game 19: 4 red, 6 green; 11 red, 4 blue, 2 green; 4 green, 8 red; 9 red, 7 green, 2 blue; 13 red, 4 blue; 9 red',\n",
       " 'Game 20: 2 blue, 1 green, 8 red; 3 green, 11 blue, 1 red; 5 blue, 4 red, 6 green; 6 green, 7 red, 5 blue; 7 red, 2 green, 1 blue',\n",
       " 'Game 21: 7 blue, 3 green; 2 green, 2 red, 7 blue; 6 blue, 3 red, 1 green; 9 blue, 1 green, 3 red',\n",
       " 'Game 22: 7 red, 5 blue, 9 green; 6 red, 1 blue, 5 green; 18 red, 7 green, 5 blue; 13 red, 11 green, 1 blue; 13 red, 1 blue, 11 green',\n",
       " 'Game 23: 10 green, 1 blue, 5 red; 2 red, 4 green; 9 green, 2 red; 10 green, 1 blue, 5 red',\n",
       " 'Game 24: 2 red, 6 green, 16 blue; 3 blue, 12 red, 3 green; 6 blue, 4 red, 12 green; 12 green, 14 blue, 3 red',\n",
       " 'Game 25: 5 red, 2 blue, 1 green; 4 blue, 14 red, 2 green; 16 blue, 4 red; 5 red; 12 blue, 16 red; 2 red, 6 blue, 1 green',\n",
       " 'Game 26: 10 blue, 6 green, 5 red; 2 red, 2 green; 8 blue, 5 red; 7 blue, 11 green; 8 green, 9 blue',\n",
       " 'Game 27: 1 red, 2 green; 6 green, 10 blue; 1 red, 6 green, 11 blue; 4 blue, 1 green, 1 red; 1 red, 7 blue; 5 green, 2 blue, 1 red',\n",
       " 'Game 28: 6 blue, 5 red, 3 green; 5 blue, 1 green; 1 green, 8 red, 1 blue; 2 blue, 4 green; 4 red, 5 blue',\n",
       " 'Game 29: 2 red, 4 green, 6 blue; 6 blue, 2 green, 1 red; 10 green, 13 blue, 2 red; 11 green, 11 blue, 2 red; 5 red, 10 green',\n",
       " 'Game 30: 4 green, 4 blue, 5 red; 6 red, 18 green, 7 blue; 1 red, 11 green, 2 blue; 11 red, 2 blue, 1 green',\n",
       " 'Game 31: 1 red, 7 green, 2 blue; 5 red, 6 green, 9 blue; 3 green, 1 red, 9 blue; 3 red; 8 blue, 6 green, 1 red; 14 blue, 4 green, 7 red',\n",
       " 'Game 32: 11 red, 2 blue, 2 green; 18 blue, 1 green; 6 blue, 1 green, 15 red; 4 red, 2 green; 13 red, 6 green, 5 blue; 7 blue, 5 green',\n",
       " 'Game 33: 12 blue, 2 red, 2 green; 5 blue, 3 green; 2 green, 6 red, 4 blue; 12 blue, 13 red; 10 blue, 12 red, 1 green; 4 blue, 4 red',\n",
       " 'Game 34: 2 blue, 1 red, 6 green; 2 blue, 1 green; 1 red, 2 green, 2 blue; 17 red, 1 blue, 2 green; 4 green, 2 red',\n",
       " 'Game 35: 2 blue, 12 red, 2 green; 2 green, 8 red, 11 blue; 17 red, 16 blue; 8 blue, 8 red; 1 green, 6 red, 9 blue',\n",
       " 'Game 36: 6 red, 14 green, 7 blue; 1 green, 1 red, 6 blue; 9 red, 10 blue, 9 green; 11 blue, 14 green, 8 red; 10 red, 6 green, 3 blue',\n",
       " 'Game 37: 6 green; 2 red, 5 green; 4 blue, 4 red, 5 green; 1 red, 7 green, 4 blue',\n",
       " 'Game 38: 1 green, 8 red, 10 blue; 3 green, 5 red, 12 blue; 13 blue, 5 red, 1 green; 3 green, 1 red; 3 red, 15 blue, 6 green; 3 green, 6 red, 4 blue',\n",
       " 'Game 39: 15 green, 3 blue; 3 green; 3 blue, 3 red, 8 green; 4 blue, 10 green, 4 red; 2 green, 5 blue, 4 red; 3 green, 3 blue, 1 red',\n",
       " 'Game 40: 2 red, 3 green, 15 blue; 5 blue, 13 green, 2 red; 11 blue, 1 red; 5 blue, 20 green, 5 red',\n",
       " 'Game 41: 1 red, 2 green, 1 blue; 10 red; 11 green, 1 blue, 5 red; 10 red, 13 green',\n",
       " 'Game 42: 10 red, 8 green, 2 blue; 5 green, 4 red; 6 red; 5 red, 9 green, 2 blue; 2 blue, 2 red, 3 green; 1 blue, 7 red, 2 green',\n",
       " 'Game 43: 8 red, 6 blue, 12 green; 11 green, 2 red, 2 blue; 4 blue, 3 red, 8 green; 14 red, 3 blue; 9 green, 1 blue, 5 red',\n",
       " 'Game 44: 4 red, 5 blue, 4 green; 9 blue, 1 green; 10 green, 2 blue, 4 red; 5 red, 15 green, 12 blue',\n",
       " 'Game 45: 1 red, 2 green; 5 blue; 3 blue, 1 red; 1 blue; 4 green, 1 red',\n",
       " 'Game 46: 3 green, 8 red, 5 blue; 1 blue, 10 red, 5 green; 2 green, 5 red, 3 blue; 5 green, 4 red, 13 blue',\n",
       " 'Game 47: 2 green, 1 blue; 2 red, 2 green, 6 blue; 1 green, 1 red, 1 blue; 2 green, 4 blue, 4 red; 2 green, 6 blue, 3 red',\n",
       " 'Game 48: 4 blue, 1 green, 2 red; 6 blue, 1 red; 4 blue',\n",
       " 'Game 49: 16 blue, 18 green, 13 red; 7 red, 13 blue; 14 green, 12 red; 20 green, 14 red, 12 blue',\n",
       " 'Game 50: 8 blue, 2 red, 1 green; 4 red, 2 green, 5 blue; 6 blue, 2 green; 8 blue, 3 green, 5 red; 1 green, 4 blue',\n",
       " 'Game 51: 2 blue, 8 red; 2 green, 3 red, 2 blue; 12 green; 3 blue, 10 green, 1 red; 13 green, 3 blue, 5 red',\n",
       " 'Game 52: 12 blue, 5 red, 16 green; 4 blue, 13 green; 2 red, 5 blue, 5 green; 4 green, 8 blue, 3 red',\n",
       " 'Game 53: 7 blue, 5 green; 8 green, 8 blue; 4 red, 1 green; 8 blue, 5 red, 11 green',\n",
       " 'Game 54: 4 blue, 3 green, 1 red; 10 green, 4 red, 7 blue; 1 red, 6 blue, 2 green',\n",
       " 'Game 55: 2 red, 10 blue; 13 red, 10 blue; 4 red, 5 blue, 4 green; 3 green, 8 blue; 5 blue, 7 red, 2 green',\n",
       " 'Game 56: 6 green, 7 blue, 9 red; 3 blue, 4 green; 15 red, 3 blue, 3 green; 5 red, 8 green, 7 blue',\n",
       " 'Game 57: 9 red, 13 blue, 2 green; 3 red, 2 green, 3 blue; 1 blue, 5 red, 3 green; 9 blue, 2 green, 2 red; 3 red, 12 blue, 3 green; 2 green, 7 red',\n",
       " 'Game 58: 4 blue, 7 red; 2 blue, 5 green, 1 red; 17 blue, 3 red; 5 green, 1 blue, 4 red; 4 green, 14 blue, 3 red',\n",
       " 'Game 59: 5 blue, 4 red; 7 red; 4 blue, 4 red, 1 green; 1 green, 1 blue, 5 red',\n",
       " 'Game 60: 4 red, 2 green; 1 green, 2 blue; 2 red, 2 green; 4 red, 2 green; 3 red',\n",
       " 'Game 61: 6 red, 14 green; 12 green, 3 blue; 3 blue, 16 green, 11 red',\n",
       " 'Game 62: 12 green, 2 red, 1 blue; 14 red, 2 blue, 4 green; 7 red, 5 green, 1 blue; 4 green, 14 red, 1 blue; 2 blue, 7 green, 3 red; 14 red, 9 green, 2 blue',\n",
       " 'Game 63: 1 red, 8 blue, 12 green; 3 green, 10 blue, 4 red; 2 red, 1 blue, 2 green; 2 red, 8 green; 4 red, 3 blue, 9 green; 13 green, 4 blue',\n",
       " 'Game 64: 4 blue, 9 green, 4 red; 10 green, 6 blue, 7 red; 10 green, 8 red, 1 blue; 13 blue, 8 green, 8 red; 4 green, 1 red, 8 blue',\n",
       " 'Game 65: 16 blue, 5 red, 13 green; 5 red, 9 green, 10 blue; 2 green, 14 red; 6 red, 5 green, 5 blue; 19 blue, 4 green, 14 red; 7 red, 1 blue, 4 green',\n",
       " 'Game 66: 7 blue, 11 green, 5 red; 7 green, 8 red, 10 blue; 3 red, 1 green',\n",
       " 'Game 67: 9 green, 2 blue, 13 red; 11 red, 10 blue; 14 red, 1 green, 1 blue; 1 red, 13 green, 6 blue; 7 blue, 3 green, 5 red; 3 green, 2 blue',\n",
       " 'Game 68: 6 green, 2 blue; 1 blue, 3 red, 5 green; 1 blue, 10 green',\n",
       " 'Game 69: 4 red, 6 blue, 1 green; 6 blue, 2 red, 4 green; 9 green, 7 blue, 2 red',\n",
       " 'Game 70: 11 blue, 1 green, 4 red; 7 blue, 1 green; 6 red, 9 blue; 1 green, 3 red, 7 blue; 1 green, 9 blue, 2 red',\n",
       " 'Game 71: 2 green, 6 red; 1 blue, 2 green, 15 red; 6 red, 1 blue; 2 green, 5 red',\n",
       " 'Game 72: 5 green, 6 red; 8 red, 1 blue, 12 green; 1 blue, 9 red, 15 green; 11 green, 1 blue, 6 red; 14 green, 5 red',\n",
       " 'Game 73: 9 green, 13 red, 1 blue; 14 green, 5 blue, 13 red; 13 green, 10 red, 16 blue; 3 blue, 7 red, 1 green; 7 red, 6 green, 11 blue',\n",
       " 'Game 74: 1 blue, 9 red, 15 green; 3 blue, 7 green; 9 green, 1 blue, 7 red',\n",
       " 'Game 75: 5 blue, 12 red, 2 green; 2 blue, 2 green; 4 green, 2 red, 7 blue; 4 green, 7 blue, 5 red; 1 green, 7 blue, 3 red',\n",
       " 'Game 76: 1 blue; 8 red, 13 blue; 4 green, 7 blue, 7 red; 3 red, 12 blue, 2 green; 2 green, 2 blue, 1 red',\n",
       " 'Game 77: 4 blue; 4 blue; 1 blue, 1 red; 1 red, 5 blue; 10 blue, 1 green',\n",
       " 'Game 78: 3 blue, 10 green, 6 red; 12 red, 7 blue, 8 green; 2 green, 18 red, 5 blue; 2 red, 15 blue, 14 green; 4 green, 6 blue, 13 red',\n",
       " 'Game 79: 7 red, 1 green; 1 blue, 6 red, 2 green; 1 blue, 12 red',\n",
       " 'Game 80: 4 red, 6 blue, 2 green; 5 blue, 2 red; 6 blue, 7 red, 2 green',\n",
       " 'Game 81: 2 green, 9 red; 2 green, 2 blue, 7 red; 12 red, 7 green; 8 green, 3 red, 3 blue',\n",
       " 'Game 82: 4 green, 5 blue; 2 red, 16 blue; 2 red, 2 green, 18 blue',\n",
       " 'Game 83: 14 red, 2 green; 3 blue, 16 red, 2 green; 4 green, 13 red, 1 blue',\n",
       " 'Game 84: 10 green, 6 blue, 2 red; 5 red, 6 blue; 7 green, 6 red, 9 blue',\n",
       " 'Game 85: 1 red; 12 red, 1 blue, 2 green; 6 red, 1 green; 12 red, 2 green',\n",
       " 'Game 86: 14 red, 1 green, 3 blue; 3 blue; 4 green, 8 red, 2 blue; 10 red, 2 green',\n",
       " 'Game 87: 4 red, 9 green, 8 blue; 3 green, 6 blue, 7 red; 4 blue, 1 red; 2 red, 7 blue, 11 green; 8 green, 2 blue, 5 red; 6 blue, 10 green, 8 red',\n",
       " 'Game 88: 1 green, 1 red; 2 green, 1 blue; 3 green, 1 red, 1 blue; 4 green; 1 blue, 3 green, 1 red',\n",
       " 'Game 89: 11 green, 7 blue, 8 red; 7 blue, 3 green, 2 red; 7 green, 6 red, 4 blue; 1 blue, 2 green, 10 red; 3 red, 2 blue, 1 green',\n",
       " 'Game 90: 10 green, 12 red, 2 blue; 7 red, 7 blue, 8 green; 2 blue, 11 red, 7 green; 6 green, 5 red, 2 blue; 7 red, 10 green',\n",
       " 'Game 91: 12 red, 8 green; 8 red, 6 green, 3 blue; 12 red, 4 blue, 2 green',\n",
       " 'Game 92: 10 blue, 3 green; 4 red, 13 blue, 8 green; 7 green, 8 blue, 7 red',\n",
       " 'Game 93: 7 red, 4 green, 1 blue; 15 green, 4 red; 2 blue, 15 red',\n",
       " 'Game 94: 10 red, 10 green, 11 blue; 3 red, 1 green, 7 blue; 9 red, 4 green, 9 blue; 7 red, 9 green, 13 blue; 9 blue, 2 green, 10 red',\n",
       " 'Game 95: 4 blue, 12 green; 7 green, 1 red, 5 blue; 2 blue, 8 green, 8 red',\n",
       " 'Game 96: 12 green, 2 blue; 11 green, 3 blue; 3 red, 2 green, 5 blue; 12 green, 2 blue, 4 red; 2 blue, 1 green, 1 red; 3 red, 11 green, 3 blue',\n",
       " 'Game 97: 6 red, 3 blue, 1 green; 1 blue, 2 red, 14 green; 4 blue, 14 green',\n",
       " 'Game 98: 13 green, 1 red, 5 blue; 2 red, 5 green, 7 blue; 19 green, 5 blue; 4 blue, 13 green; 5 green, 8 blue',\n",
       " 'Game 99: 11 red, 8 green; 16 red, 10 green; 9 red, 6 green; 3 blue, 2 red, 4 green',\n",
       " 'Game 100: 4 red, 2 blue, 4 green; 2 green, 1 red, 1 blue; 3 green, 4 blue, 5 red; 18 red, 2 blue; 9 red, 5 green, 4 blue']"
      ]
     },
     "execution_count": 43,
     "metadata": {},
     "output_type": "execute_result"
    }
   ],
   "source": [
    "content = puzzle.input_data.split(\"\\n\")\n",
    "content"
   ]
  },
  {
   "cell_type": "code",
   "execution_count": 44,
   "metadata": {},
   "outputs": [],
   "source": [
    "def get_max_colors(line:str)->typ.Dict[str,int]: \n",
    "    max_colors = {\"red\":0,\"blue\":0,\"green\":0}\n",
    "    for number, color in re.findall(r\"(\\d+) (\\w+)\", line.split(\": \")[1]): \n",
    "        max_colors[color] = max(max_colors[color], int(number))\n",
    "    return max_colors\n",
    "    \n",
    "all_max_colors = [get_max_colors(line) for line in content]"
   ]
  },
  {
   "cell_type": "markdown",
   "metadata": {},
   "source": [
    "### Part 1"
   ]
  },
  {
   "cell_type": "code",
   "execution_count": 45,
   "metadata": {},
   "outputs": [],
   "source": [
    "target = {\"red\":12,\"green\":13,\"blue\":14}"
   ]
  },
  {
   "cell_type": "code",
   "execution_count": 46,
   "metadata": {},
   "outputs": [
    {
     "data": {
      "text/plain": [
       "2810"
      ]
     },
     "execution_count": 46,
     "metadata": {},
     "output_type": "execute_result"
    }
   ],
   "source": [
    "answ = sum((id+1)*all(max_colors[key]<=target[key] for key in max_colors.keys()) for id, max_colors in enumerate(all_max_colors))\n",
    "answ"
   ]
  },
  {
   "cell_type": "code",
   "execution_count": 47,
   "metadata": {},
   "outputs": [],
   "source": [
    "puzzle.answer_a = answ"
   ]
  },
  {
   "cell_type": "markdown",
   "metadata": {},
   "source": [
    "### Part 2"
   ]
  },
  {
   "cell_type": "code",
   "execution_count": 48,
   "metadata": {},
   "outputs": [
    {
     "data": {
      "text/plain": [
       "69110"
      ]
     },
     "execution_count": 48,
     "metadata": {},
     "output_type": "execute_result"
    }
   ],
   "source": [
    "answ = sum(math.prod(max_colors.values()) for max_colors in all_max_colors)\n",
    "answ"
   ]
  },
  {
   "cell_type": "code",
   "execution_count": 49,
   "metadata": {},
   "outputs": [],
   "source": [
    "puzzle.answer_b = answ"
   ]
  },
  {
   "cell_type": "markdown",
   "metadata": {},
   "source": [
    "## Day 1\n",
    "\n",
    "https://adventofcode.com/2023/day/1"
   ]
  },
  {
   "cell_type": "markdown",
   "metadata": {},
   "source": [
    "### Prepare input"
   ]
  },
  {
   "cell_type": "code",
   "execution_count": null,
   "metadata": {},
   "outputs": [],
   "source": [
    "puzzle = Puzzle(year=2023, day=1)"
   ]
  },
  {
   "cell_type": "code",
   "execution_count": null,
   "metadata": {},
   "outputs": [],
   "source": [
    "content = puzzle.input_data.split(\"\\n\")"
   ]
  },
  {
   "cell_type": "markdown",
   "metadata": {},
   "source": [
    "### Part 1"
   ]
  },
  {
   "cell_type": "code",
   "execution_count": null,
   "metadata": {},
   "outputs": [],
   "source": [
    "answ = sum(int(f\"{x[0]}{x[-1]}\") for x in [re.findall(r\"\\d\", line) for line in content])\n",
    "answ"
   ]
  },
  {
   "cell_type": "code",
   "execution_count": null,
   "metadata": {},
   "outputs": [],
   "source": [
    "puzzle.answer_a = answ"
   ]
  },
  {
   "cell_type": "markdown",
   "metadata": {},
   "source": [
    "### Part 2"
   ]
  },
  {
   "cell_type": "code",
   "execution_count": null,
   "metadata": {},
   "outputs": [],
   "source": [
    "txt_digits = \"one, two, three, four, five, six, seven, eight, nine\".split(\", \")"
   ]
  },
  {
   "cell_type": "code",
   "execution_count": null,
   "metadata": {},
   "outputs": [],
   "source": [
    "mapping = [{k:int(v),v:int(v)} for k,v in zip(txt_digits,string.digits[1:])]\n",
    "mapping = dict(ChainMap(*mapping))"
   ]
  },
  {
   "cell_type": "code",
   "execution_count": null,
   "metadata": {},
   "outputs": [],
   "source": [
    "numbers = [regex.findall(fr\"\\d|{'|'.join(txt_digits)}\", line, overlapped=True) for line in content]"
   ]
  },
  {
   "cell_type": "code",
   "execution_count": null,
   "metadata": {},
   "outputs": [],
   "source": [
    "answ = sum(mapping[x[0]]*10 + mapping[x[-1]] for x in numbers)\n",
    "answ"
   ]
  },
  {
   "cell_type": "code",
   "execution_count": null,
   "metadata": {},
   "outputs": [],
   "source": [
    "puzzle.answer_b = answ"
   ]
  }
 ],
 "metadata": {
  "kernelspec": {
   "display_name": "Python 3 (ipykernel)",
   "language": "python",
   "name": "python3"
  },
  "language_info": {
   "codemirror_mode": {
    "name": "ipython",
    "version": 3
   },
   "file_extension": ".py",
   "mimetype": "text/x-python",
   "name": "python",
   "nbconvert_exporter": "python",
   "pygments_lexer": "ipython3",
   "version": "3.11.5"
  }
 },
 "nbformat": 4,
 "nbformat_minor": 4
}
